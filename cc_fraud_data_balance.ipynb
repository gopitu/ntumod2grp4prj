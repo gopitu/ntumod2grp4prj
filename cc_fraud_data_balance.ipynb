{
 "cells": [
  {
   "cell_type": "markdown",
   "id": "c88ce63b",
   "metadata": {},
   "source": [
    "## Credit Card Fraud Data Balance"
   ]
  },
  {
   "cell_type": "code",
   "execution_count": null,
   "id": "b15c3d1e",
   "metadata": {},
   "outputs": [],
   "source": [
    "import pandas as pd"
   ]
  },
  {
   "cell_type": "markdown",
   "id": "932e80af",
   "metadata": {},
   "source": [
    "### Load Unbalanced Training Data"
   ]
  },
  {
   "cell_type": "code",
   "execution_count": 73,
   "id": "1e54f9b8",
   "metadata": {},
   "outputs": [],
   "source": [
    "df_train = pd.read_csv('fraudTrain.csv')"
   ]
  },
  {
   "cell_type": "code",
   "execution_count": 74,
   "id": "f716a207",
   "metadata": {},
   "outputs": [],
   "source": [
    "row_count = len(df_train)"
   ]
  },
  {
   "cell_type": "code",
   "execution_count": 75,
   "id": "bc9e2faa",
   "metadata": {},
   "outputs": [
    {
     "data": {
      "text/plain": [
       "1296675"
      ]
     },
     "execution_count": 75,
     "metadata": {},
     "output_type": "execute_result"
    }
   ],
   "source": [
    "row_count"
   ]
  },
  {
   "cell_type": "markdown",
   "id": "a1f4b78e",
   "metadata": {},
   "source": [
    "### Drop Text Data Considered Irrelevant to this Analysis"
   ]
  },
  {
   "cell_type": "code",
   "execution_count": 76,
   "id": "22b4e6ff",
   "metadata": {},
   "outputs": [],
   "source": [
    "df_train = df_train.drop(df_train.columns[0], axis='columns') # drop the first unnamed index column"
   ]
  },
  {
   "cell_type": "code",
   "execution_count": 77,
   "id": "cc2837ab",
   "metadata": {},
   "outputs": [],
   "source": [
    "df_train = df_train.drop(['trans_date_trans_time', 'merchant', 'first', 'last', 'street','city','state','job','dob','trans_num'], axis='columns')"
   ]
  },
  {
   "cell_type": "code",
   "execution_count": 78,
   "id": "16a06685",
   "metadata": {},
   "outputs": [
    {
     "name": "stdout",
     "output_type": "stream",
     "text": [
      "<class 'pandas.core.frame.DataFrame'>\n",
      "RangeIndex: 1296675 entries, 0 to 1296674\n",
      "Data columns (total 12 columns):\n",
      " #   Column      Non-Null Count    Dtype  \n",
      "---  ------      --------------    -----  \n",
      " 0   cc_num      1296675 non-null  int64  \n",
      " 1   category    1296675 non-null  object \n",
      " 2   amt         1296675 non-null  float64\n",
      " 3   gender      1296675 non-null  object \n",
      " 4   zip         1296675 non-null  int64  \n",
      " 5   lat         1296675 non-null  float64\n",
      " 6   long        1296675 non-null  float64\n",
      " 7   city_pop    1296675 non-null  int64  \n",
      " 8   unix_time   1296675 non-null  int64  \n",
      " 9   merch_lat   1296675 non-null  float64\n",
      " 10  merch_long  1296675 non-null  float64\n",
      " 11  is_fraud    1296675 non-null  int64  \n",
      "dtypes: float64(5), int64(5), object(2)\n",
      "memory usage: 118.7+ MB\n"
     ]
    }
   ],
   "source": [
    "df_train.info()"
   ]
  },
  {
   "cell_type": "markdown",
   "id": "47177057",
   "metadata": {},
   "source": [
    "### Data Wrangling"
   ]
  },
  {
   "cell_type": "markdown",
   "id": "bfd326bd",
   "metadata": {},
   "source": [
    "#### Map Gender"
   ]
  },
  {
   "cell_type": "code",
   "execution_count": 79,
   "id": "3fef5a90",
   "metadata": {},
   "outputs": [],
   "source": [
    "def map_gender(row):    \n",
    "    if row['gender'] == \"M\":\n",
    "        return 0\n",
    "    else:\n",
    "        return 1"
   ]
  },
  {
   "cell_type": "code",
   "execution_count": 80,
   "id": "fcc1df5e",
   "metadata": {},
   "outputs": [],
   "source": [
    "df_train['gender'] = df_train.apply(lambda row: map_gender(row), axis=1)"
   ]
  },
  {
   "cell_type": "markdown",
   "id": "c0a3df07",
   "metadata": {},
   "source": [
    "#### Increase Fraud Transaction Count"
   ]
  },
  {
   "cell_type": "code",
   "execution_count": 81,
   "id": "99efff45",
   "metadata": {},
   "outputs": [],
   "source": [
    "fraud_count = round(row_count * 0.4) #update 40% of rows"
   ]
  },
  {
   "cell_type": "code",
   "execution_count": 82,
   "id": "c0412868",
   "metadata": {},
   "outputs": [
    {
     "data": {
      "text/plain": [
       "518670"
      ]
     },
     "execution_count": 82,
     "metadata": {},
     "output_type": "execute_result"
    }
   ],
   "source": [
    "fraud_count"
   ]
  },
  {
   "cell_type": "code",
   "execution_count": 83,
   "id": "fc9e88ce",
   "metadata": {},
   "outputs": [],
   "source": [
    "import random\n",
    "#update random rows to Fraud\n",
    "for i in range(fraud_count):\n",
    "    r = random.randrange(1, fraud_count)\n",
    "    df_train.at[r, \"is_fraud\"] = 1"
   ]
  },
  {
   "cell_type": "markdown",
   "id": "02ef618c",
   "metadata": {},
   "source": [
    "#### Oversampling - Set Location Difference for Fradulent Transactions"
   ]
  },
  {
   "cell_type": "code",
   "execution_count": 84,
   "id": "f3c2e6e7",
   "metadata": {},
   "outputs": [],
   "source": [
    "#get all fraudulent transactions\n",
    "df_train_fraud = df_train[df_train['is_fraud']==1]"
   ]
  },
  {
   "cell_type": "code",
   "execution_count": 85,
   "id": "0fca14c4",
   "metadata": {},
   "outputs": [
    {
     "name": "stdout",
     "output_type": "stream",
     "text": [
      "333604\n"
     ]
    }
   ],
   "source": [
    "fraud_rows_to_update = len(df_train_fraud)\n",
    "print(fraud_rows_to_update)"
   ]
  },
  {
   "cell_type": "code",
   "execution_count": 86,
   "id": "ec6ffe15",
   "metadata": {},
   "outputs": [],
   "source": [
    "import random\n",
    "#make the different about 100 degrees\n",
    "diff_deg = 100\n",
    "for i in range(fraud_rows_to_update):\n",
    "    r = random.randrange(1, fraud_rows_to_update)\n",
    "    df_train.at[r, \"merch_lat\"] = float(df_train.at[r, \"merch_lat\"]) + diff_deg\n",
    "    df_train.at[r, \"merch_long\"] = float(df_train.at[r, \"merch_long\"]) + diff_deg"
   ]
  },
  {
   "cell_type": "markdown",
   "id": "9e99b794",
   "metadata": {},
   "source": [
    "#### Map Latitude and Longitude"
   ]
  },
  {
   "cell_type": "code",
   "execution_count": 87,
   "id": "bba20aef",
   "metadata": {},
   "outputs": [],
   "source": [
    "def find_lat_diff(row) :\n",
    "    return round( abs(abs(row['lat']) - abs(row['merch_lat'])), 2 )"
   ]
  },
  {
   "cell_type": "code",
   "execution_count": 88,
   "id": "64de74c0",
   "metadata": {},
   "outputs": [],
   "source": [
    "def find_long_diff(row) :\n",
    "    return round( abs(abs(row['long']) - abs(row['merch_long'])), 2 )"
   ]
  },
  {
   "cell_type": "code",
   "execution_count": 89,
   "id": "e67cb585",
   "metadata": {},
   "outputs": [],
   "source": [
    "df_train['lat_diff'] = df_train.apply(lambda row: find_lat_diff(row), axis=1)"
   ]
  },
  {
   "cell_type": "code",
   "execution_count": 90,
   "id": "3e194007",
   "metadata": {},
   "outputs": [],
   "source": [
    "df_train['long_diff'] = df_train.apply(lambda row: find_long_diff(row), axis=1)"
   ]
  },
  {
   "cell_type": "markdown",
   "id": "e446a7ba",
   "metadata": {},
   "source": [
    "#### Drop the original latitude and longitudes"
   ]
  },
  {
   "cell_type": "code",
   "execution_count": 91,
   "id": "c53e7b49",
   "metadata": {},
   "outputs": [],
   "source": [
    "df_train = df_train.drop(['lat', 'long', 'merch_lat', 'merch_long'], axis='columns')"
   ]
  },
  {
   "cell_type": "code",
   "execution_count": 92,
   "id": "2bdaab8f",
   "metadata": {},
   "outputs": [
    {
     "name": "stdout",
     "output_type": "stream",
     "text": [
      "<class 'pandas.core.frame.DataFrame'>\n",
      "RangeIndex: 1296675 entries, 0 to 1296674\n",
      "Data columns (total 10 columns):\n",
      " #   Column     Non-Null Count    Dtype  \n",
      "---  ------     --------------    -----  \n",
      " 0   cc_num     1296675 non-null  int64  \n",
      " 1   category   1296675 non-null  object \n",
      " 2   amt        1296675 non-null  float64\n",
      " 3   gender     1296675 non-null  int64  \n",
      " 4   zip        1296675 non-null  int64  \n",
      " 5   city_pop   1296675 non-null  int64  \n",
      " 6   unix_time  1296675 non-null  int64  \n",
      " 7   is_fraud   1296675 non-null  int64  \n",
      " 8   lat_diff   1296675 non-null  float64\n",
      " 9   long_diff  1296675 non-null  float64\n",
      "dtypes: float64(3), int64(6), object(1)\n",
      "memory usage: 98.9+ MB\n"
     ]
    }
   ],
   "source": [
    "df_train.info()"
   ]
  },
  {
   "cell_type": "markdown",
   "id": "fe3dec38",
   "metadata": {},
   "source": [
    "#### Map Category Values\n",
    "['misc_net', 'grocery_pos', 'entertainment', 'gas_transport', 'misc_pos', 'grocery_net', 'shopping_net', 'shopping_pos',       'food_dining', 'personal_care', 'health_fitness', 'travel', 'kids_pets', 'home']"
   ]
  },
  {
   "cell_type": "code",
   "execution_count": 93,
   "id": "341717b8",
   "metadata": {},
   "outputs": [],
   "source": [
    "def map_category_code(row):    \n",
    "    if row['category'] == \"misc_net\":\n",
    "        return 0\n",
    "    elif row['category'] == \"grocery_pos\":\n",
    "        return 1\n",
    "    elif row['category'] == \"entertainment\":\n",
    "        return 2\n",
    "    elif row['category'] == \"gas_transport\":\n",
    "        return 3\n",
    "    elif row['category'] == \"misc_pos\":\n",
    "        return 4\n",
    "    elif row['category'] == \"grocery_net\":\n",
    "        return 5\n",
    "    elif row['category'] == \"shopping_net\":\n",
    "        return 6\n",
    "    elif row['category'] == \"shopping_pos\":\n",
    "        return 7\n",
    "    elif row['category'] == \"food_dining\":\n",
    "        return 8\n",
    "    elif row['category'] == \"personal_care\":\n",
    "        return 9\n",
    "    elif row['category'] == \"health_fitness\":\n",
    "        return 10\n",
    "    elif row['category'] == \"travel\":\n",
    "        return 11\n",
    "    elif row['category'] == \"kids_pets\":\n",
    "        return 12\n",
    "    elif row['category'] == \"home\":\n",
    "        return 13"
   ]
  },
  {
   "cell_type": "code",
   "execution_count": 94,
   "id": "1971522b",
   "metadata": {},
   "outputs": [],
   "source": [
    "df_train['category_code'] = df_train.apply(lambda row: map_category_code(row), axis=1)"
   ]
  },
  {
   "cell_type": "code",
   "execution_count": 95,
   "id": "bd1390a2",
   "metadata": {},
   "outputs": [],
   "source": [
    "df_train = df_train.drop(['category'], axis='columns') #drop category text value"
   ]
  },
  {
   "cell_type": "code",
   "execution_count": 96,
   "id": "177e495d",
   "metadata": {},
   "outputs": [
    {
     "name": "stdout",
     "output_type": "stream",
     "text": [
      "<class 'pandas.core.frame.DataFrame'>\n",
      "RangeIndex: 1296675 entries, 0 to 1296674\n",
      "Data columns (total 10 columns):\n",
      " #   Column         Non-Null Count    Dtype  \n",
      "---  ------         --------------    -----  \n",
      " 0   cc_num         1296675 non-null  int64  \n",
      " 1   amt            1296675 non-null  float64\n",
      " 2   gender         1296675 non-null  int64  \n",
      " 3   zip            1296675 non-null  int64  \n",
      " 4   city_pop       1296675 non-null  int64  \n",
      " 5   unix_time      1296675 non-null  int64  \n",
      " 6   is_fraud       1296675 non-null  int64  \n",
      " 7   lat_diff       1296675 non-null  float64\n",
      " 8   long_diff      1296675 non-null  float64\n",
      " 9   category_code  1296675 non-null  int64  \n",
      "dtypes: float64(3), int64(7)\n",
      "memory usage: 98.9 MB\n"
     ]
    }
   ],
   "source": [
    "df_train.info()"
   ]
  },
  {
   "cell_type": "markdown",
   "id": "14476958",
   "metadata": {},
   "source": [
    "### Save Balanced Data"
   ]
  },
  {
   "cell_type": "code",
   "execution_count": 97,
   "id": "c87a612d",
   "metadata": {},
   "outputs": [],
   "source": [
    "df_train.to_csv('fraudTrainBalanced.csv', index=False)"
   ]
  },
  {
   "cell_type": "markdown",
   "id": "83adb3ad",
   "metadata": {},
   "source": [
    "### Find Pearson Correlation"
   ]
  },
  {
   "cell_type": "code",
   "execution_count": 100,
   "id": "9111b501",
   "metadata": {},
   "outputs": [],
   "source": [
    "correlation_pearson = df_train.corr(method ='pearson')"
   ]
  },
  {
   "cell_type": "code",
   "execution_count": 101,
   "id": "bc1ef1de",
   "metadata": {},
   "outputs": [
    {
     "data": {
      "text/html": [
       "<div>\n",
       "<style scoped>\n",
       "    .dataframe tbody tr th:only-of-type {\n",
       "        vertical-align: middle;\n",
       "    }\n",
       "\n",
       "    .dataframe tbody tr th {\n",
       "        vertical-align: top;\n",
       "    }\n",
       "\n",
       "    .dataframe thead th {\n",
       "        text-align: right;\n",
       "    }\n",
       "</style>\n",
       "<table border=\"1\" class=\"dataframe\">\n",
       "  <thead>\n",
       "    <tr style=\"text-align: right;\">\n",
       "      <th></th>\n",
       "      <th>cc_num</th>\n",
       "      <th>amt</th>\n",
       "      <th>gender</th>\n",
       "      <th>zip</th>\n",
       "      <th>city_pop</th>\n",
       "      <th>unix_time</th>\n",
       "      <th>is_fraud</th>\n",
       "      <th>lat_diff</th>\n",
       "      <th>long_diff</th>\n",
       "      <th>category_code</th>\n",
       "    </tr>\n",
       "  </thead>\n",
       "  <tbody>\n",
       "    <tr>\n",
       "      <th>cc_num</th>\n",
       "      <td>1.000000</td>\n",
       "      <td>0.001769</td>\n",
       "      <td>-0.001112</td>\n",
       "      <td>0.041459</td>\n",
       "      <td>-0.008991</td>\n",
       "      <td>0.000354</td>\n",
       "      <td>-0.000731</td>\n",
       "      <td>-0.000434</td>\n",
       "      <td>0.001202</td>\n",
       "      <td>-0.000320</td>\n",
       "    </tr>\n",
       "    <tr>\n",
       "      <th>amt</th>\n",
       "      <td>0.001769</td>\n",
       "      <td>1.000000</td>\n",
       "      <td>-0.001034</td>\n",
       "      <td>0.001843</td>\n",
       "      <td>0.005818</td>\n",
       "      <td>-0.000293</td>\n",
       "      <td>0.029814</td>\n",
       "      <td>0.000944</td>\n",
       "      <td>0.001430</td>\n",
       "      <td>-0.059366</td>\n",
       "    </tr>\n",
       "    <tr>\n",
       "      <th>gender</th>\n",
       "      <td>-0.001112</td>\n",
       "      <td>-0.001034</td>\n",
       "      <td>1.000000</td>\n",
       "      <td>0.065951</td>\n",
       "      <td>0.028649</td>\n",
       "      <td>0.000960</td>\n",
       "      <td>-0.001769</td>\n",
       "      <td>-0.000412</td>\n",
       "      <td>0.001268</td>\n",
       "      <td>0.003711</td>\n",
       "    </tr>\n",
       "    <tr>\n",
       "      <th>zip</th>\n",
       "      <td>0.041459</td>\n",
       "      <td>0.001843</td>\n",
       "      <td>0.065951</td>\n",
       "      <td>1.000000</td>\n",
       "      <td>0.078467</td>\n",
       "      <td>0.000670</td>\n",
       "      <td>-0.001313</td>\n",
       "      <td>-0.000868</td>\n",
       "      <td>0.020010</td>\n",
       "      <td>-0.000612</td>\n",
       "    </tr>\n",
       "    <tr>\n",
       "      <th>city_pop</th>\n",
       "      <td>-0.008991</td>\n",
       "      <td>0.005818</td>\n",
       "      <td>0.028649</td>\n",
       "      <td>0.078467</td>\n",
       "      <td>1.000000</td>\n",
       "      <td>-0.001714</td>\n",
       "      <td>0.000896</td>\n",
       "      <td>0.001108</td>\n",
       "      <td>0.002765</td>\n",
       "      <td>0.003815</td>\n",
       "    </tr>\n",
       "    <tr>\n",
       "      <th>unix_time</th>\n",
       "      <td>0.000354</td>\n",
       "      <td>-0.000293</td>\n",
       "      <td>0.000960</td>\n",
       "      <td>0.000670</td>\n",
       "      <td>-0.001714</td>\n",
       "      <td>1.000000</td>\n",
       "      <td>-0.591081</td>\n",
       "      <td>-0.490829</td>\n",
       "      <td>-0.460836</td>\n",
       "      <td>-0.000226</td>\n",
       "    </tr>\n",
       "    <tr>\n",
       "      <th>is_fraud</th>\n",
       "      <td>-0.000731</td>\n",
       "      <td>0.029814</td>\n",
       "      <td>-0.001769</td>\n",
       "      <td>-0.001313</td>\n",
       "      <td>0.000896</td>\n",
       "      <td>-0.591081</td>\n",
       "      <td>1.000000</td>\n",
       "      <td>0.332083</td>\n",
       "      <td>0.311757</td>\n",
       "      <td>-0.005669</td>\n",
       "    </tr>\n",
       "    <tr>\n",
       "      <th>lat_diff</th>\n",
       "      <td>-0.000434</td>\n",
       "      <td>0.000944</td>\n",
       "      <td>-0.000412</td>\n",
       "      <td>-0.000868</td>\n",
       "      <td>0.001108</td>\n",
       "      <td>-0.490829</td>\n",
       "      <td>0.332083</td>\n",
       "      <td>1.000000</td>\n",
       "      <td>0.823826</td>\n",
       "      <td>-0.000635</td>\n",
       "    </tr>\n",
       "    <tr>\n",
       "      <th>long_diff</th>\n",
       "      <td>0.001202</td>\n",
       "      <td>0.001430</td>\n",
       "      <td>0.001268</td>\n",
       "      <td>0.020010</td>\n",
       "      <td>0.002765</td>\n",
       "      <td>-0.460836</td>\n",
       "      <td>0.311757</td>\n",
       "      <td>0.823826</td>\n",
       "      <td>1.000000</td>\n",
       "      <td>-0.000189</td>\n",
       "    </tr>\n",
       "    <tr>\n",
       "      <th>category_code</th>\n",
       "      <td>-0.000320</td>\n",
       "      <td>-0.059366</td>\n",
       "      <td>0.003711</td>\n",
       "      <td>-0.000612</td>\n",
       "      <td>0.003815</td>\n",
       "      <td>-0.000226</td>\n",
       "      <td>-0.005669</td>\n",
       "      <td>-0.000635</td>\n",
       "      <td>-0.000189</td>\n",
       "      <td>1.000000</td>\n",
       "    </tr>\n",
       "  </tbody>\n",
       "</table>\n",
       "</div>"
      ],
      "text/plain": [
       "                 cc_num       amt    gender       zip  city_pop  unix_time  \\\n",
       "cc_num         1.000000  0.001769 -0.001112  0.041459 -0.008991   0.000354   \n",
       "amt            0.001769  1.000000 -0.001034  0.001843  0.005818  -0.000293   \n",
       "gender        -0.001112 -0.001034  1.000000  0.065951  0.028649   0.000960   \n",
       "zip            0.041459  0.001843  0.065951  1.000000  0.078467   0.000670   \n",
       "city_pop      -0.008991  0.005818  0.028649  0.078467  1.000000  -0.001714   \n",
       "unix_time      0.000354 -0.000293  0.000960  0.000670 -0.001714   1.000000   \n",
       "is_fraud      -0.000731  0.029814 -0.001769 -0.001313  0.000896  -0.591081   \n",
       "lat_diff      -0.000434  0.000944 -0.000412 -0.000868  0.001108  -0.490829   \n",
       "long_diff      0.001202  0.001430  0.001268  0.020010  0.002765  -0.460836   \n",
       "category_code -0.000320 -0.059366  0.003711 -0.000612  0.003815  -0.000226   \n",
       "\n",
       "               is_fraud  lat_diff  long_diff  category_code  \n",
       "cc_num        -0.000731 -0.000434   0.001202      -0.000320  \n",
       "amt            0.029814  0.000944   0.001430      -0.059366  \n",
       "gender        -0.001769 -0.000412   0.001268       0.003711  \n",
       "zip           -0.001313 -0.000868   0.020010      -0.000612  \n",
       "city_pop       0.000896  0.001108   0.002765       0.003815  \n",
       "unix_time     -0.591081 -0.490829  -0.460836      -0.000226  \n",
       "is_fraud       1.000000  0.332083   0.311757      -0.005669  \n",
       "lat_diff       0.332083  1.000000   0.823826      -0.000635  \n",
       "long_diff      0.311757  0.823826   1.000000      -0.000189  \n",
       "category_code -0.005669 -0.000635  -0.000189       1.000000  "
      ]
     },
     "execution_count": 101,
     "metadata": {},
     "output_type": "execute_result"
    }
   ],
   "source": [
    "correlation_pearson"
   ]
  },
  {
   "cell_type": "code",
   "execution_count": 102,
   "id": "5eb36ad5",
   "metadata": {},
   "outputs": [
    {
     "name": "stdout",
     "output_type": "stream",
     "text": [
      "long_diff    0.311757\n",
      "lat_diff     0.332083\n",
      "unix_time    0.591081\n",
      "is_fraud     1.000000\n",
      "Name: is_fraud, dtype: float64\n"
     ]
    }
   ],
   "source": [
    "corr_is_fraud = abs(correlation_pearson[\"is_fraud\"])\n",
    "high_corr = corr_is_fraud[corr_is_fraud>0.1] #find highly correlated features\n",
    "print(high_corr.sort_values())"
   ]
  },
  {
   "cell_type": "code",
   "execution_count": null,
   "id": "0a129c22",
   "metadata": {},
   "outputs": [],
   "source": []
  }
 ],
 "metadata": {
  "kernelspec": {
   "display_name": "Python 3 (ipykernel)",
   "language": "python",
   "name": "python3"
  },
  "language_info": {
   "codemirror_mode": {
    "name": "ipython",
    "version": 3
   },
   "file_extension": ".py",
   "mimetype": "text/x-python",
   "name": "python",
   "nbconvert_exporter": "python",
   "pygments_lexer": "ipython3",
   "version": "3.9.7"
  }
 },
 "nbformat": 4,
 "nbformat_minor": 5
}
