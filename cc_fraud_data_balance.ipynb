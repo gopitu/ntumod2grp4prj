{
 "cells": [
  {
   "cell_type": "markdown",
   "id": "c88ce63b",
   "metadata": {},
   "source": [
    "## Credit Card Fraud Data Balance"
   ]
  },
  {
   "cell_type": "code",
   "execution_count": 1,
   "id": "b15c3d1e",
   "metadata": {},
   "outputs": [],
   "source": [
    "import pandas as pd"
   ]
  },
  {
   "cell_type": "markdown",
   "id": "932e80af",
   "metadata": {},
   "source": [
    "### Load Unbalanced Training Data"
   ]
  },
  {
   "cell_type": "code",
   "execution_count": 2,
   "id": "1e54f9b8",
   "metadata": {},
   "outputs": [],
   "source": [
    "df_train = pd.read_csv('fraudTrain.csv')"
   ]
  },
  {
   "cell_type": "code",
   "execution_count": 3,
   "id": "f716a207",
   "metadata": {},
   "outputs": [],
   "source": [
    "row_count = len(df_train)"
   ]
  },
  {
   "cell_type": "code",
   "execution_count": 4,
   "id": "bc9e2faa",
   "metadata": {},
   "outputs": [
    {
     "data": {
      "text/plain": [
       "1296675"
      ]
     },
     "execution_count": 4,
     "metadata": {},
     "output_type": "execute_result"
    }
   ],
   "source": [
    "row_count"
   ]
  },
  {
   "cell_type": "markdown",
   "id": "a1f4b78e",
   "metadata": {},
   "source": [
    "### Drop Text Data Considered Irrelevant to this Analysis"
   ]
  },
  {
   "cell_type": "code",
   "execution_count": 5,
   "id": "22b4e6ff",
   "metadata": {},
   "outputs": [],
   "source": [
    "df_train = df_train.drop(df_train.columns[0], axis='columns') # drop the first unnamed index column"
   ]
  },
  {
   "cell_type": "code",
   "execution_count": 6,
   "id": "cc2837ab",
   "metadata": {},
   "outputs": [],
   "source": [
    "df_train = df_train.drop(['trans_date_trans_time', 'merchant', 'first', 'last', 'street','city','state','job','cc_num','trans_num','unix_time','zip','city_pop'], axis='columns')"
   ]
  },
  {
   "cell_type": "code",
   "execution_count": 7,
   "id": "16a06685",
   "metadata": {},
   "outputs": [
    {
     "name": "stdout",
     "output_type": "stream",
     "text": [
      "<class 'pandas.core.frame.DataFrame'>\n",
      "RangeIndex: 1296675 entries, 0 to 1296674\n",
      "Data columns (total 9 columns):\n",
      " #   Column      Non-Null Count    Dtype  \n",
      "---  ------      --------------    -----  \n",
      " 0   category    1296675 non-null  object \n",
      " 1   amt         1296675 non-null  float64\n",
      " 2   gender      1296675 non-null  object \n",
      " 3   lat         1296675 non-null  float64\n",
      " 4   long        1296675 non-null  float64\n",
      " 5   dob         1296675 non-null  object \n",
      " 6   merch_lat   1296675 non-null  float64\n",
      " 7   merch_long  1296675 non-null  float64\n",
      " 8   is_fraud    1296675 non-null  int64  \n",
      "dtypes: float64(5), int64(1), object(3)\n",
      "memory usage: 89.0+ MB\n"
     ]
    }
   ],
   "source": [
    "df_train.info()"
   ]
  },
  {
   "cell_type": "markdown",
   "id": "47177057",
   "metadata": {},
   "source": [
    "### Data Wrangling"
   ]
  },
  {
   "cell_type": "markdown",
   "id": "bfd326bd",
   "metadata": {},
   "source": [
    "#### Map Gender"
   ]
  },
  {
   "cell_type": "code",
   "execution_count": 8,
   "id": "3fef5a90",
   "metadata": {},
   "outputs": [],
   "source": [
    "def map_gender(row):    \n",
    "    if row['gender'] == \"M\":\n",
    "        return 0\n",
    "    else:\n",
    "        return 1"
   ]
  },
  {
   "cell_type": "code",
   "execution_count": 9,
   "id": "fcc1df5e",
   "metadata": {},
   "outputs": [],
   "source": [
    "df_train['gender'] = df_train.apply(lambda row: map_gender(row), axis=1)"
   ]
  },
  {
   "cell_type": "markdown",
   "id": "57d6a911",
   "metadata": {},
   "source": [
    "#### Calculate Age from Date-of-Birth and Map to AgeGroup"
   ]
  },
  {
   "cell_type": "code",
   "execution_count": 10,
   "id": "6292b89e",
   "metadata": {},
   "outputs": [],
   "source": [
    "from datetime import date\n",
    "def calculate_age(row):\n",
    "  today = date.today()\n",
    "  return today.year - row['dob'].year - ((today.month, today.day) < (row['dob'].month, row['dob'].day))"
   ]
  },
  {
   "cell_type": "code",
   "execution_count": 11,
   "id": "c4387ef9",
   "metadata": {},
   "outputs": [],
   "source": [
    "df_train['dob'] = pd.to_datetime(df_train['dob'])\n",
    "df_train['age'] = df_train.apply (lambda row: calculate_age(row), axis=1)"
   ]
  },
  {
   "cell_type": "code",
   "execution_count": 12,
   "id": "d07d1760",
   "metadata": {},
   "outputs": [],
   "source": [
    "def map_age_group(row):    \n",
    "    if row['age'] <= 19:\n",
    "        return 0 #teenage\n",
    "    elif row['age'] > 19 and row['age'] <= 24:\n",
    "        return 1 #young_adult\n",
    "    elif row['age'] > 24 and row['age'] <= 39:\n",
    "        return 2 #adult\n",
    "    elif row['age'] > 39 and row['age'] <= 54:\n",
    "        return 3 #middle_aged\n",
    "    else:\n",
    "        return 4 #elderly"
   ]
  },
  {
   "cell_type": "code",
   "execution_count": 13,
   "id": "2ba0c2d4",
   "metadata": {},
   "outputs": [],
   "source": [
    "df_train['age_group'] = df_train.apply(lambda row: map_age_group(row), axis=1)"
   ]
  },
  {
   "cell_type": "code",
   "execution_count": 14,
   "id": "cf6b3a6d",
   "metadata": {},
   "outputs": [],
   "source": [
    "df_train = df_train.drop(['dob','age'], axis='columns') #drop DOB & Age"
   ]
  },
  {
   "cell_type": "markdown",
   "id": "a75c4128",
   "metadata": {},
   "source": [
    "#### Categorize Transaction Amount into Groups"
   ]
  },
  {
   "cell_type": "code",
   "execution_count": 15,
   "id": "2827dacb",
   "metadata": {},
   "outputs": [],
   "source": [
    "def map_price_group(row):    \n",
    "    if row['amt'] <= 30:\n",
    "        return 0 #Cheap\n",
    "    elif row['amt'] > 30 and row['amt'] <= 60:\n",
    "        return 1 #Affordable\n",
    "    elif row['amt'] > 60 and row['amt'] <= 499:\n",
    "        return 2 #Average\n",
    "    elif row['amt'] > 499 and row['amt'] <= 2999:\n",
    "        return 3 #Expensive\n",
    "    else:\n",
    "        return 4 #Luxury"
   ]
  },
  {
   "cell_type": "code",
   "execution_count": 16,
   "id": "f7d26157",
   "metadata": {},
   "outputs": [],
   "source": [
    "df_train['price_range'] = df_train.apply (lambda row: map_price_group(row), axis=1)"
   ]
  },
  {
   "cell_type": "code",
   "execution_count": 17,
   "id": "84607b1c",
   "metadata": {},
   "outputs": [],
   "source": [
    "df_train = df_train.drop(['amt'], axis='columns') #drop Amount"
   ]
  },
  {
   "cell_type": "markdown",
   "id": "02ef618c",
   "metadata": {},
   "source": [
    "#### Oversampling - Increase Distance for 40% of Transactions and Mark as Fraudulent"
   ]
  },
  {
   "cell_type": "code",
   "execution_count": 18,
   "id": "dd882783",
   "metadata": {},
   "outputs": [],
   "source": [
    "fraud_count = round(row_count * 0.4) #update 40% of rows"
   ]
  },
  {
   "cell_type": "code",
   "execution_count": 19,
   "id": "e0446b12",
   "metadata": {},
   "outputs": [
    {
     "data": {
      "text/plain": [
       "518670"
      ]
     },
     "execution_count": 19,
     "metadata": {},
     "output_type": "execute_result"
    }
   ],
   "source": [
    "fraud_count"
   ]
  },
  {
   "cell_type": "code",
   "execution_count": 20,
   "id": "ec6ffe15",
   "metadata": {},
   "outputs": [],
   "source": [
    "import random\n",
    "#make the different about 100 degrees\n",
    "diff_deg = 100\n",
    "row_no = 0\n",
    "for i in range(fraud_count):\n",
    "    row_no = row_no + 2\n",
    "    df_train.at[row_no, \"merch_lat\"] = float(df_train.at[row_no, \"merch_lat\"]) + diff_deg\n",
    "    df_train.at[row_no, \"merch_long\"] = float(df_train.at[row_no, \"merch_long\"]) + diff_deg"
   ]
  },
  {
   "cell_type": "markdown",
   "id": "9e99b794",
   "metadata": {},
   "source": [
    "#### Map Latitude and Longitude to Distance"
   ]
  },
  {
   "cell_type": "code",
   "execution_count": 21,
   "id": "bba20aef",
   "metadata": {},
   "outputs": [],
   "source": [
    "def find_lat_diff(row) :\n",
    "    return round( abs(abs(row['lat']) - abs(row['merch_lat'])), 2 )"
   ]
  },
  {
   "cell_type": "code",
   "execution_count": 22,
   "id": "64de74c0",
   "metadata": {},
   "outputs": [],
   "source": [
    "def find_long_diff(row) :\n",
    "    return round( abs(abs(row['long']) - abs(row['merch_long'])), 2 )"
   ]
  },
  {
   "cell_type": "code",
   "execution_count": 23,
   "id": "e67cb585",
   "metadata": {},
   "outputs": [],
   "source": [
    "df_train['lat_diff'] = df_train.apply(lambda row: find_lat_diff(row), axis=1)"
   ]
  },
  {
   "cell_type": "code",
   "execution_count": 24,
   "id": "3e194007",
   "metadata": {},
   "outputs": [],
   "source": [
    "df_train['long_diff'] = df_train.apply(lambda row: find_long_diff(row), axis=1)"
   ]
  },
  {
   "cell_type": "code",
   "execution_count": 25,
   "id": "8e3b97dc",
   "metadata": {},
   "outputs": [],
   "source": [
    "import numpy as np\n",
    "df_train['distance'] = np.linalg.norm(df_train[['long_diff', 'lat_diff']], axis=1) # find distance"
   ]
  },
  {
   "cell_type": "code",
   "execution_count": 26,
   "id": "c3fda25e",
   "metadata": {},
   "outputs": [],
   "source": [
    "df_train['distance'] = round(df_train['distance'], 2) #round to 2 decimal"
   ]
  },
  {
   "cell_type": "code",
   "execution_count": 27,
   "id": "d7d1b306",
   "metadata": {},
   "outputs": [],
   "source": [
    "df_train.loc[df_train['distance']>10, 'is_fraud'] = 1 #set any distance > 10 as Fraudulent"
   ]
  },
  {
   "cell_type": "code",
   "execution_count": 28,
   "id": "c768e0dc",
   "metadata": {},
   "outputs": [
    {
     "data": {
      "text/plain": [
       "523193"
      ]
     },
     "execution_count": 28,
     "metadata": {},
     "output_type": "execute_result"
    }
   ],
   "source": [
    "len(df_train[df_train['is_fraud']==1])"
   ]
  },
  {
   "cell_type": "markdown",
   "id": "e446a7ba",
   "metadata": {},
   "source": [
    "#### Drop the original latitude and longitudes"
   ]
  },
  {
   "cell_type": "code",
   "execution_count": 29,
   "id": "c53e7b49",
   "metadata": {},
   "outputs": [],
   "source": [
    "df_train = df_train.drop(['lat', 'long', 'merch_lat', 'merch_long','lat_diff','long_diff'], axis='columns')"
   ]
  },
  {
   "cell_type": "code",
   "execution_count": 30,
   "id": "2bdaab8f",
   "metadata": {},
   "outputs": [
    {
     "name": "stdout",
     "output_type": "stream",
     "text": [
      "<class 'pandas.core.frame.DataFrame'>\n",
      "RangeIndex: 1296675 entries, 0 to 1296674\n",
      "Data columns (total 6 columns):\n",
      " #   Column       Non-Null Count    Dtype  \n",
      "---  ------       --------------    -----  \n",
      " 0   category     1296675 non-null  object \n",
      " 1   gender       1296675 non-null  int64  \n",
      " 2   is_fraud     1296675 non-null  int64  \n",
      " 3   age_group    1296675 non-null  int64  \n",
      " 4   price_range  1296675 non-null  int64  \n",
      " 5   distance     1296675 non-null  float64\n",
      "dtypes: float64(1), int64(4), object(1)\n",
      "memory usage: 59.4+ MB\n"
     ]
    }
   ],
   "source": [
    "df_train.info()"
   ]
  },
  {
   "cell_type": "markdown",
   "id": "fe3dec38",
   "metadata": {},
   "source": [
    "#### Map Category Values\n",
    "['misc_net', 'grocery_pos', 'entertainment', 'gas_transport', 'misc_pos', 'grocery_net', 'shopping_net', 'shopping_pos',       'food_dining', 'personal_care', 'health_fitness', 'travel', 'kids_pets', 'home']"
   ]
  },
  {
   "cell_type": "code",
   "execution_count": 31,
   "id": "341717b8",
   "metadata": {},
   "outputs": [],
   "source": [
    "def map_category_code(row):    \n",
    "    if row['category'] == \"misc_net\":\n",
    "        return 0\n",
    "    elif row['category'] == \"grocery_pos\":\n",
    "        return 1\n",
    "    elif row['category'] == \"entertainment\":\n",
    "        return 2\n",
    "    elif row['category'] == \"gas_transport\":\n",
    "        return 3\n",
    "    elif row['category'] == \"misc_pos\":\n",
    "        return 4\n",
    "    elif row['category'] == \"grocery_net\":\n",
    "        return 5\n",
    "    elif row['category'] == \"shopping_net\":\n",
    "        return 6\n",
    "    elif row['category'] == \"shopping_pos\":\n",
    "        return 7\n",
    "    elif row['category'] == \"food_dining\":\n",
    "        return 8\n",
    "    elif row['category'] == \"personal_care\":\n",
    "        return 9\n",
    "    elif row['category'] == \"health_fitness\":\n",
    "        return 10\n",
    "    elif row['category'] == \"travel\":\n",
    "        return 11\n",
    "    elif row['category'] == \"kids_pets\":\n",
    "        return 12\n",
    "    elif row['category'] == \"home\":\n",
    "        return 13"
   ]
  },
  {
   "cell_type": "code",
   "execution_count": 32,
   "id": "1971522b",
   "metadata": {},
   "outputs": [],
   "source": [
    "df_train['category_code'] = df_train.apply(lambda row: map_category_code(row), axis=1)"
   ]
  },
  {
   "cell_type": "code",
   "execution_count": 33,
   "id": "bd1390a2",
   "metadata": {},
   "outputs": [],
   "source": [
    "df_train = df_train.drop(['category'], axis='columns') #drop category text value"
   ]
  },
  {
   "cell_type": "code",
   "execution_count": 34,
   "id": "177e495d",
   "metadata": {},
   "outputs": [
    {
     "name": "stdout",
     "output_type": "stream",
     "text": [
      "<class 'pandas.core.frame.DataFrame'>\n",
      "RangeIndex: 1296675 entries, 0 to 1296674\n",
      "Data columns (total 6 columns):\n",
      " #   Column         Non-Null Count    Dtype  \n",
      "---  ------         --------------    -----  \n",
      " 0   gender         1296675 non-null  int64  \n",
      " 1   is_fraud       1296675 non-null  int64  \n",
      " 2   age_group      1296675 non-null  int64  \n",
      " 3   price_range    1296675 non-null  int64  \n",
      " 4   distance       1296675 non-null  float64\n",
      " 5   category_code  1296675 non-null  int64  \n",
      "dtypes: float64(1), int64(5)\n",
      "memory usage: 59.4 MB\n"
     ]
    }
   ],
   "source": [
    "df_train.info()"
   ]
  },
  {
   "cell_type": "markdown",
   "id": "14476958",
   "metadata": {},
   "source": [
    "### Save Balanced Data"
   ]
  },
  {
   "cell_type": "code",
   "execution_count": 35,
   "id": "c87a612d",
   "metadata": {},
   "outputs": [],
   "source": [
    "df_train.to_csv('fraudTrainBalanced.csv', index=False)"
   ]
  },
  {
   "cell_type": "markdown",
   "id": "83adb3ad",
   "metadata": {},
   "source": [
    "### Find Pearson Correlation"
   ]
  },
  {
   "cell_type": "code",
   "execution_count": 36,
   "id": "9111b501",
   "metadata": {},
   "outputs": [],
   "source": [
    "correlation_pearson = df_train.corr(method ='pearson')"
   ]
  },
  {
   "cell_type": "code",
   "execution_count": 37,
   "id": "bc1ef1de",
   "metadata": {},
   "outputs": [
    {
     "data": {
      "text/html": [
       "<div>\n",
       "<style scoped>\n",
       "    .dataframe tbody tr th:only-of-type {\n",
       "        vertical-align: middle;\n",
       "    }\n",
       "\n",
       "    .dataframe tbody tr th {\n",
       "        vertical-align: top;\n",
       "    }\n",
       "\n",
       "    .dataframe thead th {\n",
       "        text-align: right;\n",
       "    }\n",
       "</style>\n",
       "<table border=\"1\" class=\"dataframe\">\n",
       "  <thead>\n",
       "    <tr style=\"text-align: right;\">\n",
       "      <th></th>\n",
       "      <th>gender</th>\n",
       "      <th>is_fraud</th>\n",
       "      <th>age_group</th>\n",
       "      <th>price_range</th>\n",
       "      <th>distance</th>\n",
       "      <th>category_code</th>\n",
       "    </tr>\n",
       "  </thead>\n",
       "  <tbody>\n",
       "    <tr>\n",
       "      <th>gender</th>\n",
       "      <td>1.000000</td>\n",
       "      <td>-0.000895</td>\n",
       "      <td>-0.028813</td>\n",
       "      <td>-0.061793</td>\n",
       "      <td>0.003886</td>\n",
       "      <td>0.003711</td>\n",
       "    </tr>\n",
       "    <tr>\n",
       "      <th>is_fraud</th>\n",
       "      <td>-0.000895</td>\n",
       "      <td>1.000000</td>\n",
       "      <td>0.003008</td>\n",
       "      <td>0.007011</td>\n",
       "      <td>0.986578</td>\n",
       "      <td>-0.003960</td>\n",
       "    </tr>\n",
       "    <tr>\n",
       "      <th>age_group</th>\n",
       "      <td>-0.028813</td>\n",
       "      <td>0.003008</td>\n",
       "      <td>1.000000</td>\n",
       "      <td>-0.017746</td>\n",
       "      <td>0.003492</td>\n",
       "      <td>0.012787</td>\n",
       "    </tr>\n",
       "    <tr>\n",
       "      <th>price_range</th>\n",
       "      <td>-0.061793</td>\n",
       "      <td>0.007011</td>\n",
       "      <td>-0.017746</td>\n",
       "      <td>1.000000</td>\n",
       "      <td>-0.001314</td>\n",
       "      <td>-0.171678</td>\n",
       "    </tr>\n",
       "    <tr>\n",
       "      <th>distance</th>\n",
       "      <td>0.003886</td>\n",
       "      <td>0.986578</td>\n",
       "      <td>0.003492</td>\n",
       "      <td>-0.001314</td>\n",
       "      <td>1.000000</td>\n",
       "      <td>-0.000413</td>\n",
       "    </tr>\n",
       "    <tr>\n",
       "      <th>category_code</th>\n",
       "      <td>0.003711</td>\n",
       "      <td>-0.003960</td>\n",
       "      <td>0.012787</td>\n",
       "      <td>-0.171678</td>\n",
       "      <td>-0.000413</td>\n",
       "      <td>1.000000</td>\n",
       "    </tr>\n",
       "  </tbody>\n",
       "</table>\n",
       "</div>"
      ],
      "text/plain": [
       "                 gender  is_fraud  age_group  price_range  distance  \\\n",
       "gender         1.000000 -0.000895  -0.028813    -0.061793  0.003886   \n",
       "is_fraud      -0.000895  1.000000   0.003008     0.007011  0.986578   \n",
       "age_group     -0.028813  0.003008   1.000000    -0.017746  0.003492   \n",
       "price_range   -0.061793  0.007011  -0.017746     1.000000 -0.001314   \n",
       "distance       0.003886  0.986578   0.003492    -0.001314  1.000000   \n",
       "category_code  0.003711 -0.003960   0.012787    -0.171678 -0.000413   \n",
       "\n",
       "               category_code  \n",
       "gender              0.003711  \n",
       "is_fraud           -0.003960  \n",
       "age_group           0.012787  \n",
       "price_range        -0.171678  \n",
       "distance           -0.000413  \n",
       "category_code       1.000000  "
      ]
     },
     "execution_count": 37,
     "metadata": {},
     "output_type": "execute_result"
    }
   ],
   "source": [
    "correlation_pearson"
   ]
  },
  {
   "cell_type": "code",
   "execution_count": 38,
   "id": "5eb36ad5",
   "metadata": {},
   "outputs": [
    {
     "name": "stdout",
     "output_type": "stream",
     "text": [
      "distance    0.986578\n",
      "is_fraud    1.000000\n",
      "Name: is_fraud, dtype: float64\n"
     ]
    }
   ],
   "source": [
    "corr_is_fraud = abs(correlation_pearson[\"is_fraud\"])\n",
    "high_corr = corr_is_fraud[corr_is_fraud>0.1] #find highly correlated features\n",
    "print(high_corr.sort_values())"
   ]
  },
  {
   "cell_type": "code",
   "execution_count": null,
   "id": "0a129c22",
   "metadata": {},
   "outputs": [],
   "source": []
  }
 ],
 "metadata": {
  "kernelspec": {
   "display_name": "Python 3 (ipykernel)",
   "language": "python",
   "name": "python3"
  },
  "language_info": {
   "codemirror_mode": {
    "name": "ipython",
    "version": 3
   },
   "file_extension": ".py",
   "mimetype": "text/x-python",
   "name": "python",
   "nbconvert_exporter": "python",
   "pygments_lexer": "ipython3",
   "version": "3.9.7"
  }
 },
 "nbformat": 4,
 "nbformat_minor": 5
}
