{
 "cells": [
  {
   "cell_type": "markdown",
   "id": "4ea955e2",
   "metadata": {},
   "source": [
    "## Train Models on the Balanced Data"
   ]
  },
  {
   "cell_type": "markdown",
   "id": "d64cb8d7",
   "metadata": {},
   "source": [
    "### Load the Balanced Data"
   ]
  },
  {
   "cell_type": "code",
   "execution_count": 53,
   "id": "7c2dcf85",
   "metadata": {},
   "outputs": [],
   "source": [
    "import pandas as pd"
   ]
  },
  {
   "cell_type": "code",
   "execution_count": 54,
   "id": "e2b919ba",
   "metadata": {},
   "outputs": [],
   "source": [
    "df_train = pd.read_csv('fraudTrainBalanced.csv')"
   ]
  },
  {
   "cell_type": "code",
   "execution_count": 55,
   "id": "e3f54b35",
   "metadata": {},
   "outputs": [
    {
     "data": {
      "text/plain": [
       "1296675"
      ]
     },
     "execution_count": 55,
     "metadata": {},
     "output_type": "execute_result"
    }
   ],
   "source": [
    "len(df_train)"
   ]
  },
  {
   "cell_type": "code",
   "execution_count": 56,
   "id": "ff97d174",
   "metadata": {},
   "outputs": [
    {
     "name": "stdout",
     "output_type": "stream",
     "text": [
      "<class 'pandas.core.frame.DataFrame'>\n",
      "RangeIndex: 1296675 entries, 0 to 1296674\n",
      "Data columns (total 10 columns):\n",
      " #   Column         Non-Null Count    Dtype  \n",
      "---  ------         --------------    -----  \n",
      " 0   cc_num         1296675 non-null  int64  \n",
      " 1   amt            1296675 non-null  float64\n",
      " 2   gender         1296675 non-null  int64  \n",
      " 3   zip            1296675 non-null  int64  \n",
      " 4   city_pop       1296675 non-null  int64  \n",
      " 5   unix_time      1296675 non-null  int64  \n",
      " 6   is_fraud       1296675 non-null  int64  \n",
      " 7   lat_diff       1296675 non-null  float64\n",
      " 8   long_diff      1296675 non-null  float64\n",
      " 9   category_code  1296675 non-null  int64  \n",
      "dtypes: float64(3), int64(7)\n",
      "memory usage: 98.9 MB\n"
     ]
    }
   ],
   "source": [
    "df_train.info()"
   ]
  },
  {
   "cell_type": "markdown",
   "id": "44d9bdaf",
   "metadata": {},
   "source": [
    "### Split the X and Y Axis"
   ]
  },
  {
   "cell_type": "code",
   "execution_count": 57,
   "id": "daf14728",
   "metadata": {},
   "outputs": [],
   "source": [
    "x = df_train.drop('is_fraud', axis=1)"
   ]
  },
  {
   "cell_type": "code",
   "execution_count": 58,
   "id": "6eaded8c",
   "metadata": {},
   "outputs": [
    {
     "name": "stdout",
     "output_type": "stream",
     "text": [
      "<class 'pandas.core.frame.DataFrame'>\n",
      "RangeIndex: 1296675 entries, 0 to 1296674\n",
      "Data columns (total 9 columns):\n",
      " #   Column         Non-Null Count    Dtype  \n",
      "---  ------         --------------    -----  \n",
      " 0   cc_num         1296675 non-null  int64  \n",
      " 1   amt            1296675 non-null  float64\n",
      " 2   gender         1296675 non-null  int64  \n",
      " 3   zip            1296675 non-null  int64  \n",
      " 4   city_pop       1296675 non-null  int64  \n",
      " 5   unix_time      1296675 non-null  int64  \n",
      " 6   lat_diff       1296675 non-null  float64\n",
      " 7   long_diff      1296675 non-null  float64\n",
      " 8   category_code  1296675 non-null  int64  \n",
      "dtypes: float64(3), int64(6)\n",
      "memory usage: 89.0 MB\n"
     ]
    }
   ],
   "source": [
    "x.info()"
   ]
  },
  {
   "cell_type": "code",
   "execution_count": 59,
   "id": "e638716c",
   "metadata": {},
   "outputs": [],
   "source": [
    "y = df_train[['is_fraud']]"
   ]
  },
  {
   "cell_type": "code",
   "execution_count": 60,
   "id": "f7306c89",
   "metadata": {},
   "outputs": [
    {
     "name": "stdout",
     "output_type": "stream",
     "text": [
      "<class 'pandas.core.frame.DataFrame'>\n",
      "RangeIndex: 1296675 entries, 0 to 1296674\n",
      "Data columns (total 1 columns):\n",
      " #   Column    Non-Null Count    Dtype\n",
      "---  ------    --------------    -----\n",
      " 0   is_fraud  1296675 non-null  int64\n",
      "dtypes: int64(1)\n",
      "memory usage: 9.9 MB\n"
     ]
    }
   ],
   "source": [
    "y.info()"
   ]
  },
  {
   "cell_type": "markdown",
   "id": "08695eee",
   "metadata": {},
   "source": [
    "### Split Training and Test Set"
   ]
  },
  {
   "cell_type": "code",
   "execution_count": 61,
   "id": "bb674481",
   "metadata": {},
   "outputs": [],
   "source": [
    "from sklearn.model_selection import train_test_split"
   ]
  },
  {
   "cell_type": "code",
   "execution_count": 62,
   "id": "aeb44d33",
   "metadata": {},
   "outputs": [],
   "source": [
    "x_train, x_test, y_train, y_test = train_test_split(x, y, train_size=0.8, random_state=4)"
   ]
  },
  {
   "cell_type": "markdown",
   "id": "c192846a",
   "metadata": {},
   "source": [
    "### Train on Model - DecisionTreeClassifier"
   ]
  },
  {
   "cell_type": "code",
   "execution_count": 63,
   "id": "4a49f47c",
   "metadata": {},
   "outputs": [],
   "source": [
    "from sklearn.tree import DecisionTreeClassifier"
   ]
  },
  {
   "cell_type": "code",
   "execution_count": 64,
   "id": "e322a69d",
   "metadata": {},
   "outputs": [],
   "source": [
    "model_tree = DecisionTreeClassifier(random_state=4, max_depth=4)"
   ]
  },
  {
   "cell_type": "code",
   "execution_count": 65,
   "id": "eb5b5a67",
   "metadata": {},
   "outputs": [
    {
     "data": {
      "text/plain": [
       "DecisionTreeClassifier(max_depth=4, random_state=4)"
      ]
     },
     "execution_count": 65,
     "metadata": {},
     "output_type": "execute_result"
    }
   ],
   "source": [
    "model_tree.fit(x_train, y_train)"
   ]
  },
  {
   "cell_type": "code",
   "execution_count": 66,
   "id": "c067a2ed",
   "metadata": {},
   "outputs": [],
   "source": [
    "y_predict = model_tree.predict(x_test)"
   ]
  },
  {
   "cell_type": "code",
   "execution_count": 67,
   "id": "422fc352",
   "metadata": {},
   "outputs": [],
   "source": [
    "from sklearn.metrics import confusion_matrix"
   ]
  },
  {
   "cell_type": "code",
   "execution_count": 68,
   "id": "47d38424",
   "metadata": {},
   "outputs": [],
   "source": [
    "cm = confusion_matrix(y_test, y_predict)"
   ]
  },
  {
   "cell_type": "code",
   "execution_count": 69,
   "id": "1411b16a",
   "metadata": {},
   "outputs": [
    {
     "data": {
      "text/plain": [
       "array([[154522,  38160],\n",
       "       [   643,  66010]], dtype=int64)"
      ]
     },
     "execution_count": 69,
     "metadata": {},
     "output_type": "execute_result"
    }
   ],
   "source": [
    "cm"
   ]
  },
  {
   "cell_type": "code",
   "execution_count": 70,
   "id": "646bf76e",
   "metadata": {},
   "outputs": [],
   "source": [
    "accuracy = (cm[0,0] + cm[1,1])/(sum(sum(cm)))"
   ]
  },
  {
   "cell_type": "code",
   "execution_count": 71,
   "id": "de910a50",
   "metadata": {},
   "outputs": [
    {
     "data": {
      "text/plain": [
       "0.8503749975899898"
      ]
     },
     "execution_count": 71,
     "metadata": {},
     "output_type": "execute_result"
    }
   ],
   "source": [
    "accuracy"
   ]
  },
  {
   "cell_type": "code",
   "execution_count": 72,
   "id": "3974a7fe",
   "metadata": {},
   "outputs": [],
   "source": [
    "import joblib"
   ]
  },
  {
   "cell_type": "code",
   "execution_count": 73,
   "id": "c8965029",
   "metadata": {},
   "outputs": [
    {
     "data": {
      "text/plain": [
       "['group4_prj_cc_fraud_model_cart']"
      ]
     },
     "execution_count": 73,
     "metadata": {},
     "output_type": "execute_result"
    }
   ],
   "source": [
    "joblib.dump(model_tree, 'group4_prj_cc_fraud_model_cart')"
   ]
  },
  {
   "cell_type": "markdown",
   "id": "c029d5a2",
   "metadata": {},
   "source": [
    "### Train on Model - RandomForestClassifier"
   ]
  },
  {
   "cell_type": "code",
   "execution_count": 74,
   "id": "fa64b745",
   "metadata": {},
   "outputs": [],
   "source": [
    "from sklearn import ensemble"
   ]
  },
  {
   "cell_type": "code",
   "execution_count": 75,
   "id": "07d9954f",
   "metadata": {},
   "outputs": [],
   "source": [
    "model_rf = ensemble.RandomForestClassifier(random_state=4, max_depth=4)"
   ]
  },
  {
   "cell_type": "code",
   "execution_count": 76,
   "id": "9cf733e0",
   "metadata": {},
   "outputs": [
    {
     "name": "stderr",
     "output_type": "stream",
     "text": [
      "C:\\Users\\gopit\\AppData\\Local\\Temp/ipykernel_23512/1462693802.py:1: DataConversionWarning: A column-vector y was passed when a 1d array was expected. Please change the shape of y to (n_samples,), for example using ravel().\n",
      "  model_rf.fit(x_train, y_train)\n"
     ]
    },
    {
     "data": {
      "text/plain": [
       "RandomForestClassifier(max_depth=4, random_state=4)"
      ]
     },
     "execution_count": 76,
     "metadata": {},
     "output_type": "execute_result"
    }
   ],
   "source": [
    "model_rf.fit(x_train, y_train)"
   ]
  },
  {
   "cell_type": "code",
   "execution_count": 77,
   "id": "b2a67131",
   "metadata": {},
   "outputs": [],
   "source": [
    "y_predict = model_rf.predict(x_test)"
   ]
  },
  {
   "cell_type": "code",
   "execution_count": 78,
   "id": "7ad84a80",
   "metadata": {},
   "outputs": [
    {
     "name": "stdout",
     "output_type": "stream",
     "text": [
      "[[154691  37991]\n",
      " [   869  65784]]\n",
      "0.8501552046580677\n"
     ]
    }
   ],
   "source": [
    "cm = confusion_matrix(y_test, y_predict)\n",
    "print(cm)\n",
    "accuracy = (cm[0,0] + cm[1,1])/(sum(sum(cm)))\n",
    "print(accuracy)"
   ]
  },
  {
   "cell_type": "code",
   "execution_count": 79,
   "id": "3e30adfd",
   "metadata": {},
   "outputs": [
    {
     "data": {
      "text/plain": [
       "['group4_prj_cc_fraud_model_rf']"
      ]
     },
     "execution_count": 79,
     "metadata": {},
     "output_type": "execute_result"
    }
   ],
   "source": [
    "joblib.dump(model_rf, 'group4_prj_cc_fraud_model_rf')"
   ]
  },
  {
   "cell_type": "markdown",
   "id": "245be49c",
   "metadata": {},
   "source": [
    "### Train on Model - GradientBoostingClassifier"
   ]
  },
  {
   "cell_type": "code",
   "execution_count": 80,
   "id": "b9b678e9",
   "metadata": {},
   "outputs": [],
   "source": [
    "from sklearn.ensemble import GradientBoostingClassifier"
   ]
  },
  {
   "cell_type": "code",
   "execution_count": 81,
   "id": "088e88ce",
   "metadata": {},
   "outputs": [],
   "source": [
    "model_gb = GradientBoostingClassifier(random_state=4, max_depth=4)"
   ]
  },
  {
   "cell_type": "code",
   "execution_count": 82,
   "id": "3e3693ad",
   "metadata": {},
   "outputs": [
    {
     "name": "stderr",
     "output_type": "stream",
     "text": [
      "C:\\Users\\gopit\\anaconda3\\lib\\site-packages\\sklearn\\utils\\validation.py:63: DataConversionWarning: A column-vector y was passed when a 1d array was expected. Please change the shape of y to (n_samples, ), for example using ravel().\n",
      "  return f(*args, **kwargs)\n"
     ]
    },
    {
     "data": {
      "text/plain": [
       "GradientBoostingClassifier(max_depth=4, random_state=4)"
      ]
     },
     "execution_count": 82,
     "metadata": {},
     "output_type": "execute_result"
    }
   ],
   "source": [
    "model_gb.fit(x_train, y_train)"
   ]
  },
  {
   "cell_type": "code",
   "execution_count": 83,
   "id": "7bff5634",
   "metadata": {},
   "outputs": [],
   "source": [
    "y_predict = model_gb.predict(x_test)"
   ]
  },
  {
   "cell_type": "code",
   "execution_count": 84,
   "id": "8f8cbdf2",
   "metadata": {},
   "outputs": [
    {
     "name": "stdout",
     "output_type": "stream",
     "text": [
      "[[154578  38104]\n",
      " [   385  66268]]\n",
      "0.8515857867237357\n"
     ]
    }
   ],
   "source": [
    "cm = confusion_matrix(y_test, y_predict)\n",
    "print(cm)\n",
    "accuracy = (cm[0,0] + cm[1,1])/(sum(sum(cm)))\n",
    "print(accuracy)"
   ]
  },
  {
   "cell_type": "code",
   "execution_count": 85,
   "id": "1fe5f837",
   "metadata": {},
   "outputs": [
    {
     "data": {
      "text/plain": [
       "['group4_prj_cc_fraud_model_gb']"
      ]
     },
     "execution_count": 85,
     "metadata": {},
     "output_type": "execute_result"
    }
   ],
   "source": [
    "joblib.dump(model_gb, 'group4_prj_cc_fraud_model_gb')"
   ]
  },
  {
   "cell_type": "markdown",
   "id": "a7c43390",
   "metadata": {},
   "source": [
    "### Train on Model - LogisticRegression"
   ]
  },
  {
   "cell_type": "code",
   "execution_count": 86,
   "id": "9a33b904",
   "metadata": {},
   "outputs": [],
   "source": [
    "from sklearn import linear_model"
   ]
  },
  {
   "cell_type": "code",
   "execution_count": 87,
   "id": "0fcda269",
   "metadata": {},
   "outputs": [],
   "source": [
    "model_lr = linear_model.LogisticRegression(random_state=4)"
   ]
  },
  {
   "cell_type": "code",
   "execution_count": 88,
   "id": "c646c7d3",
   "metadata": {},
   "outputs": [
    {
     "name": "stderr",
     "output_type": "stream",
     "text": [
      "C:\\Users\\gopit\\anaconda3\\lib\\site-packages\\sklearn\\utils\\validation.py:63: DataConversionWarning: A column-vector y was passed when a 1d array was expected. Please change the shape of y to (n_samples, ), for example using ravel().\n",
      "  return f(*args, **kwargs)\n",
      "C:\\Users\\gopit\\anaconda3\\lib\\site-packages\\sklearn\\linear_model\\_logistic.py:763: ConvergenceWarning: lbfgs failed to converge (status=2):\n",
      "ABNORMAL_TERMINATION_IN_LNSRCH.\n",
      "\n",
      "Increase the number of iterations (max_iter) or scale the data as shown in:\n",
      "    https://scikit-learn.org/stable/modules/preprocessing.html\n",
      "Please also refer to the documentation for alternative solver options:\n",
      "    https://scikit-learn.org/stable/modules/linear_model.html#logistic-regression\n",
      "  n_iter_i = _check_optimize_result(\n"
     ]
    },
    {
     "data": {
      "text/plain": [
       "LogisticRegression(random_state=4)"
      ]
     },
     "execution_count": 88,
     "metadata": {},
     "output_type": "execute_result"
    }
   ],
   "source": [
    "model_lr.fit(x_train, y_train)"
   ]
  },
  {
   "cell_type": "code",
   "execution_count": 89,
   "id": "2e8ac0ac",
   "metadata": {},
   "outputs": [],
   "source": [
    "y_predict = model_lr.predict(x_test)"
   ]
  },
  {
   "cell_type": "code",
   "execution_count": 90,
   "id": "f198c35e",
   "metadata": {},
   "outputs": [
    {
     "name": "stdout",
     "output_type": "stream",
     "text": [
      "[[192682      0]\n",
      " [ 66653      0]]\n",
      "0.7429849422561552\n"
     ]
    }
   ],
   "source": [
    "cm = confusion_matrix(y_test, y_predict)\n",
    "print(cm)\n",
    "accuracy = (cm[0,0] + cm[1,1])/(sum(sum(cm)))\n",
    "print(accuracy)"
   ]
  },
  {
   "cell_type": "code",
   "execution_count": 91,
   "id": "661c1939",
   "metadata": {},
   "outputs": [
    {
     "data": {
      "text/plain": [
       "['group4_prj_cc_fraud_model_lr']"
      ]
     },
     "execution_count": 91,
     "metadata": {},
     "output_type": "execute_result"
    }
   ],
   "source": [
    "joblib.dump(model_lr, 'group4_prj_cc_fraud_model_lr')"
   ]
  },
  {
   "cell_type": "markdown",
   "id": "c9c3e8ea",
   "metadata": {},
   "source": [
    "### Plot the Decision Tree Model"
   ]
  },
  {
   "cell_type": "code",
   "execution_count": 92,
   "id": "078a6d71",
   "metadata": {},
   "outputs": [
    {
     "name": "stdout",
     "output_type": "stream",
     "text": [
      "|--- unix_time <= 1344732608.00\n",
      "|   |--- amt <= 673.79\n",
      "|   |   |--- amt <= 245.20\n",
      "|   |   |   |--- amt <= 245.12\n",
      "|   |   |   |   |--- class: 1\n",
      "|   |   |   |--- amt >  245.12\n",
      "|   |   |   |   |--- class: 0\n",
      "|   |   |--- amt >  245.20\n",
      "|   |   |   |--- category_code <= 1.50\n",
      "|   |   |   |   |--- class: 1\n",
      "|   |   |   |--- category_code >  1.50\n",
      "|   |   |   |   |--- class: 1\n",
      "|   |--- amt >  673.79\n",
      "|   |   |--- amt <= 1159.25\n",
      "|   |   |   |--- category_code <= 6.50\n",
      "|   |   |   |   |--- class: 1\n",
      "|   |   |   |--- category_code >  6.50\n",
      "|   |   |   |   |--- class: 1\n",
      "|   |   |--- amt >  1159.25\n",
      "|   |   |   |--- cc_num <= 4931728839383449600.00\n",
      "|   |   |   |   |--- class: 1\n",
      "|   |   |   |--- cc_num >  4931728839383449600.00\n",
      "|   |   |   |   |--- class: 0\n",
      "|--- unix_time >  1344732608.00\n",
      "|   |--- amt <= 696.23\n",
      "|   |   |--- amt <= 258.64\n",
      "|   |   |   |--- amt <= 24.18\n",
      "|   |   |   |   |--- class: 0\n",
      "|   |   |   |--- amt >  24.18\n",
      "|   |   |   |   |--- class: 0\n",
      "|   |   |--- amt >  258.64\n",
      "|   |   |   |--- category_code <= 1.50\n",
      "|   |   |   |   |--- class: 0\n",
      "|   |   |   |--- category_code >  1.50\n",
      "|   |   |   |   |--- class: 0\n",
      "|   |--- amt >  696.23\n",
      "|   |   |--- amt <= 1170.87\n",
      "|   |   |   |--- gender <= 0.50\n",
      "|   |   |   |   |--- class: 1\n",
      "|   |   |   |--- gender >  0.50\n",
      "|   |   |   |   |--- class: 0\n",
      "|   |   |--- amt >  1170.87\n",
      "|   |   |   |--- amt <= 1289.92\n",
      "|   |   |   |   |--- class: 0\n",
      "|   |   |   |--- amt >  1289.92\n",
      "|   |   |   |   |--- class: 0\n",
      "\n"
     ]
    }
   ],
   "source": [
    "from sklearn.tree import export_text\n",
    "feature_names = list(x.columns)\n",
    "model_tree_text = export_text(model_tree, feature_names=feature_names)\n",
    "print(model_tree_text)"
   ]
  },
  {
   "cell_type": "code",
   "execution_count": 93,
   "id": "c27084bb",
   "metadata": {},
   "outputs": [],
   "source": [
    "from sklearn import tree"
   ]
  },
  {
   "cell_type": "code",
   "execution_count": 94,
   "id": "847beb8e",
   "metadata": {},
   "outputs": [
    {
     "data": {
      "text/plain": [
       "[Text(167.4, 195.696, 'X[5] <= 1344732608.0\\ngini = 0.382\\nsamples = 1037340\\nvalue = [770389, 266951]'),\n",
       " Text(83.7, 152.208, 'X[1] <= 673.795\\ngini = 0.464\\nsamples = 414893\\nvalue = [151481, 263412]'),\n",
       " Text(41.85, 108.72, 'X[1] <= 245.2\\ngini = 0.464\\nsamples = 411895\\nvalue = [150804, 261091]'),\n",
       " Text(20.925, 65.232, 'X[1] <= 245.125\\ngini = 0.465\\nsamples = 402140\\nvalue = [147583, 254557]'),\n",
       " Text(10.4625, 21.744, 'gini = 0.465\\nsamples = 402134\\nvalue = [147578, 254556]'),\n",
       " Text(31.387500000000003, 21.744, 'gini = 0.278\\nsamples = 6\\nvalue = [5, 1]'),\n",
       " Text(62.775000000000006, 65.232, 'X[8] <= 1.5\\ngini = 0.442\\nsamples = 9755\\nvalue = [3221, 6534]'),\n",
       " Text(52.3125, 21.744, 'gini = 0.367\\nsamples = 1952\\nvalue = [473, 1479]'),\n",
       " Text(73.2375, 21.744, 'gini = 0.456\\nsamples = 7803\\nvalue = [2748, 5055]'),\n",
       " Text(125.55000000000001, 108.72, 'X[1] <= 1159.25\\ngini = 0.35\\nsamples = 2998\\nvalue = [677, 2321]'),\n",
       " Text(104.625, 65.232, 'X[8] <= 6.5\\ngini = 0.301\\nsamples = 2241\\nvalue = [414, 1827]'),\n",
       " Text(94.16250000000001, 21.744, 'gini = 0.26\\nsamples = 1464\\nvalue = [225, 1239]'),\n",
       " Text(115.0875, 21.744, 'gini = 0.368\\nsamples = 777\\nvalue = [189, 588]'),\n",
       " Text(146.475, 65.232, 'X[0] <= 4.93172883938345e+18\\ngini = 0.453\\nsamples = 757\\nvalue = [263, 494]'),\n",
       " Text(136.01250000000002, 21.744, 'gini = 0.451\\nsamples = 749\\nvalue = [257, 492]'),\n",
       " Text(156.9375, 21.744, 'gini = 0.375\\nsamples = 8\\nvalue = [6, 2]'),\n",
       " Text(251.10000000000002, 152.208, 'X[1] <= 696.235\\ngini = 0.011\\nsamples = 622447\\nvalue = [618908, 3539]'),\n",
       " Text(209.25, 108.72, 'X[1] <= 258.635\\ngini = 0.006\\nsamples = 618036\\nvalue = [616123, 1913]'),\n",
       " Text(188.32500000000002, 65.232, 'X[1] <= 24.175\\ngini = 0.003\\nsamples = 604934\\nvalue = [604069, 865]'),\n",
       " Text(177.8625, 21.744, 'gini = 0.006\\nsamples = 219214\\nvalue = [218539, 675]'),\n",
       " Text(198.7875, 21.744, 'gini = 0.001\\nsamples = 385720\\nvalue = [385530, 190]'),\n",
       " Text(230.175, 65.232, 'X[8] <= 1.5\\ngini = 0.147\\nsamples = 13102\\nvalue = [12054, 1048]'),\n",
       " Text(219.7125, 21.744, 'gini = 0.448\\nsamples = 2535\\nvalue = [1677, 858]'),\n",
       " Text(240.63750000000002, 21.744, 'gini = 0.035\\nsamples = 10567\\nvalue = [10377, 190]'),\n",
       " Text(292.95, 108.72, 'X[1] <= 1170.87\\ngini = 0.465\\nsamples = 4411\\nvalue = [2785, 1626]'),\n",
       " Text(272.02500000000003, 65.232, 'X[2] <= 0.5\\ngini = 0.499\\nsamples = 3338\\nvalue = [1744, 1594]'),\n",
       " Text(261.5625, 21.744, 'gini = 0.481\\nsamples = 1515\\nvalue = [611, 904]'),\n",
       " Text(282.4875, 21.744, 'gini = 0.47\\nsamples = 1823\\nvalue = [1133, 690]'),\n",
       " Text(313.875, 65.232, 'X[1] <= 1289.92\\ngini = 0.058\\nsamples = 1073\\nvalue = [1041, 32]'),\n",
       " Text(303.4125, 21.744, 'gini = 0.222\\nsamples = 228\\nvalue = [199, 29]'),\n",
       " Text(324.33750000000003, 21.744, 'gini = 0.007\\nsamples = 845\\nvalue = [842, 3]')]"
      ]
     },
     "execution_count": 94,
     "metadata": {},
     "output_type": "execute_result"
    },
    {
     "data": {
      "image/png": "[encoded data removed]",
      "text/plain": [
       "<Figure size 432x288 with 1 Axes>"
      ]
     },
     "metadata": {
      "needs_background": "light"
     },
     "output_type": "display_data"
    }
   ],
   "source": [
    "tree.plot_tree(model_tree)"
   ]
  },
  {
   "cell_type": "code",
   "execution_count": null,
   "id": "3df2dcf2",
   "metadata": {},
   "outputs": [],
   "source": []
  }
 ],
 "metadata": {
  "kernelspec": {
   "display_name": "Python 3 (ipykernel)",
   "language": "python",
   "name": "python3"
  },
  "language_info": {
   "codemirror_mode": {
    "name": "ipython",
    "version": 3
   },
   "file_extension": ".py",
   "mimetype": "text/x-python",
   "name": "python",
   "nbconvert_exporter": "python",
   "pygments_lexer": "ipython3",
   "version": "3.9.7"
  }
 },
 "nbformat": 4,
 "nbformat_minor": 5
}
