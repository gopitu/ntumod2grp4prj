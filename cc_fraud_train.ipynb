{
 "cells": [
  {
   "cell_type": "markdown",
   "id": "4ea955e2",
   "metadata": {},
   "source": [
    "## Train Models on the Balanced Data"
   ]
  },
  {
   "cell_type": "markdown",
   "id": "d64cb8d7",
   "metadata": {},
   "source": [
    "### Load the Balanced Data"
   ]
  },
  {
   "cell_type": "code",
   "execution_count": 36,
   "id": "7c2dcf85",
   "metadata": {},
   "outputs": [],
   "source": [
    "import pandas as pd"
   ]
  },
  {
   "cell_type": "code",
   "execution_count": 37,
   "id": "e2b919ba",
   "metadata": {},
   "outputs": [],
   "source": [
    "df_train = pd.read_csv('fraudTrainBalanced.csv')"
   ]
  },
  {
   "cell_type": "code",
   "execution_count": 38,
   "id": "e3f54b35",
   "metadata": {},
   "outputs": [
    {
     "data": {
      "text/plain": [
       "1296675"
      ]
     },
     "execution_count": 38,
     "metadata": {},
     "output_type": "execute_result"
    }
   ],
   "source": [
    "len(df_train)"
   ]
  },
  {
   "cell_type": "code",
   "execution_count": 39,
   "id": "ff97d174",
   "metadata": {},
   "outputs": [
    {
     "name": "stdout",
     "output_type": "stream",
     "text": [
      "<class 'pandas.core.frame.DataFrame'>\n",
      "RangeIndex: 1296675 entries, 0 to 1296674\n",
      "Data columns (total 6 columns):\n",
      " #   Column         Non-Null Count    Dtype  \n",
      "---  ------         --------------    -----  \n",
      " 0   gender         1296675 non-null  int64  \n",
      " 1   is_fraud       1296675 non-null  int64  \n",
      " 2   age_group      1296675 non-null  int64  \n",
      " 3   price_range    1296675 non-null  int64  \n",
      " 4   distance       1296675 non-null  float64\n",
      " 5   category_code  1296675 non-null  int64  \n",
      "dtypes: float64(1), int64(5)\n",
      "memory usage: 59.4 MB\n"
     ]
    }
   ],
   "source": [
    "df_train.info()"
   ]
  },
  {
   "cell_type": "markdown",
   "id": "44d9bdaf",
   "metadata": {},
   "source": [
    "### Split the X and Y Axis"
   ]
  },
  {
   "cell_type": "code",
   "execution_count": 40,
   "id": "daf14728",
   "metadata": {},
   "outputs": [],
   "source": [
    "x = df_train.drop('is_fraud', axis=1)"
   ]
  },
  {
   "cell_type": "code",
   "execution_count": 41,
   "id": "6eaded8c",
   "metadata": {},
   "outputs": [
    {
     "name": "stdout",
     "output_type": "stream",
     "text": [
      "<class 'pandas.core.frame.DataFrame'>\n",
      "RangeIndex: 1296675 entries, 0 to 1296674\n",
      "Data columns (total 5 columns):\n",
      " #   Column         Non-Null Count    Dtype  \n",
      "---  ------         --------------    -----  \n",
      " 0   gender         1296675 non-null  int64  \n",
      " 1   age_group      1296675 non-null  int64  \n",
      " 2   price_range    1296675 non-null  int64  \n",
      " 3   distance       1296675 non-null  float64\n",
      " 4   category_code  1296675 non-null  int64  \n",
      "dtypes: float64(1), int64(4)\n",
      "memory usage: 49.5 MB\n"
     ]
    }
   ],
   "source": [
    "x.info()"
   ]
  },
  {
   "cell_type": "code",
   "execution_count": 42,
   "id": "e63d9d2e",
   "metadata": {},
   "outputs": [],
   "source": [
    "import numpy as np\n",
    "for row in df_train.itertuples():\n",
    "    if np.isnan(row.gender):\n",
    "        print('gender is nan=', row.gender)\n",
    "    elif np.isnan(row.age_group):\n",
    "        print('age_group is nan=', row.age_group)\n",
    "    elif np.isnan(row.price_range):\n",
    "        print('price_range is nan=', row.price_range)\n",
    "    elif np.isnan(row.distance):\n",
    "        print('distance is nan=', row.distance)\n",
    "    elif np.isnan(row.category_code):\n",
    "        print('category_code is nan=', row.category_code)\n",
    "    elif np.isnan(row.is_fraud):\n",
    "        print('is_fraud is nan=', row.is_fraud)"
   ]
  },
  {
   "cell_type": "code",
   "execution_count": 43,
   "id": "e638716c",
   "metadata": {},
   "outputs": [],
   "source": [
    "y = df_train[['is_fraud']]"
   ]
  },
  {
   "cell_type": "code",
   "execution_count": 44,
   "id": "f7306c89",
   "metadata": {},
   "outputs": [
    {
     "name": "stdout",
     "output_type": "stream",
     "text": [
      "<class 'pandas.core.frame.DataFrame'>\n",
      "RangeIndex: 1296675 entries, 0 to 1296674\n",
      "Data columns (total 1 columns):\n",
      " #   Column    Non-Null Count    Dtype\n",
      "---  ------    --------------    -----\n",
      " 0   is_fraud  1296675 non-null  int64\n",
      "dtypes: int64(1)\n",
      "memory usage: 9.9 MB\n"
     ]
    }
   ],
   "source": [
    "y.info()"
   ]
  },
  {
   "cell_type": "markdown",
   "id": "08695eee",
   "metadata": {},
   "source": [
    "### Split Training and Test Set"
   ]
  },
  {
   "cell_type": "code",
   "execution_count": 45,
   "id": "bb674481",
   "metadata": {},
   "outputs": [],
   "source": [
    "from sklearn.model_selection import train_test_split"
   ]
  },
  {
   "cell_type": "code",
   "execution_count": 46,
   "id": "aeb44d33",
   "metadata": {},
   "outputs": [],
   "source": [
    "x_train, x_test, y_train, y_test = train_test_split(x, y, train_size=0.8, random_state=4)"
   ]
  },
  {
   "cell_type": "markdown",
   "id": "c192846a",
   "metadata": {},
   "source": [
    "### Train on Model - DecisionTreeClassifier"
   ]
  },
  {
   "cell_type": "code",
   "execution_count": 47,
   "id": "4a49f47c",
   "metadata": {},
   "outputs": [],
   "source": [
    "from sklearn.tree import DecisionTreeClassifier"
   ]
  },
  {
   "cell_type": "code",
   "execution_count": 48,
   "id": "e322a69d",
   "metadata": {},
   "outputs": [],
   "source": [
    "model_tree = DecisionTreeClassifier(random_state=4, max_depth=4)"
   ]
  },
  {
   "cell_type": "code",
   "execution_count": 49,
   "id": "eb5b5a67",
   "metadata": {},
   "outputs": [
    {
     "data": {
      "text/plain": [
       "DecisionTreeClassifier(max_depth=4, random_state=4)"
      ]
     },
     "execution_count": 49,
     "metadata": {},
     "output_type": "execute_result"
    }
   ],
   "source": [
    "model_tree.fit(x_train, y_train)"
   ]
  },
  {
   "cell_type": "code",
   "execution_count": 50,
   "id": "c067a2ed",
   "metadata": {},
   "outputs": [],
   "source": [
    "y_predict = model_tree.predict(x_test)"
   ]
  },
  {
   "cell_type": "code",
   "execution_count": 51,
   "id": "422fc352",
   "metadata": {},
   "outputs": [],
   "source": [
    "from sklearn.metrics import confusion_matrix"
   ]
  },
  {
   "cell_type": "code",
   "execution_count": 52,
   "id": "47d38424",
   "metadata": {},
   "outputs": [],
   "source": [
    "cm = confusion_matrix(y_test, y_predict)"
   ]
  },
  {
   "cell_type": "code",
   "execution_count": 53,
   "id": "1411b16a",
   "metadata": {},
   "outputs": [
    {
     "data": {
      "text/plain": [
       "array([[154521,      0],\n",
       "       [   929, 103885]], dtype=int64)"
      ]
     },
     "execution_count": 53,
     "metadata": {},
     "output_type": "execute_result"
    }
   ],
   "source": [
    "cm"
   ]
  },
  {
   "cell_type": "code",
   "execution_count": 54,
   "id": "646bf76e",
   "metadata": {},
   "outputs": [],
   "source": [
    "accuracy = (cm[0,0] + cm[1,1])/(sum(sum(cm)))"
   ]
  },
  {
   "cell_type": "code",
   "execution_count": 55,
   "id": "de910a50",
   "metadata": {},
   "outputs": [
    {
     "data": {
      "text/plain": [
       "0.9964177608113058"
      ]
     },
     "execution_count": 55,
     "metadata": {},
     "output_type": "execute_result"
    }
   ],
   "source": [
    "accuracy"
   ]
  },
  {
   "cell_type": "code",
   "execution_count": 56,
   "id": "3974a7fe",
   "metadata": {},
   "outputs": [],
   "source": [
    "import joblib"
   ]
  },
  {
   "cell_type": "code",
   "execution_count": 57,
   "id": "c8965029",
   "metadata": {},
   "outputs": [
    {
     "data": {
      "text/plain": [
       "['group4_prj_cc_fraud_model_cart']"
      ]
     },
     "execution_count": 57,
     "metadata": {},
     "output_type": "execute_result"
    }
   ],
   "source": [
    "joblib.dump(model_tree, 'group4_prj_cc_fraud_model_cart')"
   ]
  },
  {
   "cell_type": "markdown",
   "id": "c029d5a2",
   "metadata": {},
   "source": [
    "### Train on Model - RandomForestClassifier"
   ]
  },
  {
   "cell_type": "code",
   "execution_count": 58,
   "id": "fa64b745",
   "metadata": {},
   "outputs": [],
   "source": [
    "from sklearn import ensemble"
   ]
  },
  {
   "cell_type": "code",
   "execution_count": 59,
   "id": "07d9954f",
   "metadata": {},
   "outputs": [],
   "source": [
    "model_rf = ensemble.RandomForestClassifier(random_state=4, max_depth=4)"
   ]
  },
  {
   "cell_type": "code",
   "execution_count": 60,
   "id": "9cf733e0",
   "metadata": {},
   "outputs": [
    {
     "name": "stderr",
     "output_type": "stream",
     "text": [
      "C:\\Users\\gopit\\AppData\\Local\\Temp/ipykernel_9252/1462693802.py:1: DataConversionWarning: A column-vector y was passed when a 1d array was expected. Please change the shape of y to (n_samples,), for example using ravel().\n",
      "  model_rf.fit(x_train, y_train)\n"
     ]
    },
    {
     "data": {
      "text/plain": [
       "RandomForestClassifier(max_depth=4, random_state=4)"
      ]
     },
     "execution_count": 60,
     "metadata": {},
     "output_type": "execute_result"
    }
   ],
   "source": [
    "model_rf.fit(x_train, y_train)"
   ]
  },
  {
   "cell_type": "code",
   "execution_count": 61,
   "id": "b2a67131",
   "metadata": {},
   "outputs": [],
   "source": [
    "y_predict = model_rf.predict(x_test)"
   ]
  },
  {
   "cell_type": "code",
   "execution_count": 62,
   "id": "7ad84a80",
   "metadata": {},
   "outputs": [
    {
     "name": "stdout",
     "output_type": "stream",
     "text": [
      "[[154521      0]\n",
      " [   929 103885]]\n",
      "0.9964177608113058\n"
     ]
    }
   ],
   "source": [
    "cm = confusion_matrix(y_test, y_predict)\n",
    "print(cm)\n",
    "accuracy = (cm[0,0] + cm[1,1])/(sum(sum(cm)))\n",
    "print(accuracy)"
   ]
  },
  {
   "cell_type": "code",
   "execution_count": 63,
   "id": "3e30adfd",
   "metadata": {},
   "outputs": [
    {
     "data": {
      "text/plain": [
       "['group4_prj_cc_fraud_model_rf']"
      ]
     },
     "execution_count": 63,
     "metadata": {},
     "output_type": "execute_result"
    }
   ],
   "source": [
    "joblib.dump(model_rf, 'group4_prj_cc_fraud_model_rf')"
   ]
  },
  {
   "cell_type": "markdown",
   "id": "245be49c",
   "metadata": {},
   "source": [
    "### Train on Model - GradientBoostingClassifier"
   ]
  },
  {
   "cell_type": "code",
   "execution_count": 64,
   "id": "b9b678e9",
   "metadata": {},
   "outputs": [],
   "source": [
    "from sklearn.ensemble import GradientBoostingClassifier"
   ]
  },
  {
   "cell_type": "code",
   "execution_count": 65,
   "id": "088e88ce",
   "metadata": {},
   "outputs": [],
   "source": [
    "model_gb = GradientBoostingClassifier(random_state=4, max_depth=4)"
   ]
  },
  {
   "cell_type": "code",
   "execution_count": 66,
   "id": "3e3693ad",
   "metadata": {},
   "outputs": [
    {
     "name": "stderr",
     "output_type": "stream",
     "text": [
      "C:\\Users\\gopit\\anaconda3\\lib\\site-packages\\sklearn\\utils\\validation.py:63: DataConversionWarning: A column-vector y was passed when a 1d array was expected. Please change the shape of y to (n_samples, ), for example using ravel().\n",
      "  return f(*args, **kwargs)\n"
     ]
    },
    {
     "data": {
      "text/plain": [
       "GradientBoostingClassifier(max_depth=4, random_state=4)"
      ]
     },
     "execution_count": 66,
     "metadata": {},
     "output_type": "execute_result"
    }
   ],
   "source": [
    "model_gb.fit(x_train, y_train)"
   ]
  },
  {
   "cell_type": "code",
   "execution_count": 69,
   "id": "7bff5634",
   "metadata": {},
   "outputs": [],
   "source": [
    "y_predict = model_gb.predict(x_test)"
   ]
  },
  {
   "cell_type": "code",
   "execution_count": 70,
   "id": "8f8cbdf2",
   "metadata": {},
   "outputs": [
    {
     "name": "stdout",
     "output_type": "stream",
     "text": [
      "[[154430     91]\n",
      " [   838 103976]]\n",
      "0.9964177608113058\n"
     ]
    }
   ],
   "source": [
    "cm = confusion_matrix(y_test, y_predict)\n",
    "print(cm)\n",
    "accuracy = (cm[0,0] + cm[1,1])/(sum(sum(cm)))\n",
    "print(accuracy)"
   ]
  },
  {
   "cell_type": "code",
   "execution_count": 71,
   "id": "1fe5f837",
   "metadata": {},
   "outputs": [
    {
     "data": {
      "text/plain": [
       "['group4_prj_cc_fraud_model_gb']"
      ]
     },
     "execution_count": 71,
     "metadata": {},
     "output_type": "execute_result"
    }
   ],
   "source": [
    "joblib.dump(model_gb, 'group4_prj_cc_fraud_model_gb')"
   ]
  },
  {
   "cell_type": "markdown",
   "id": "a7c43390",
   "metadata": {},
   "source": [
    "### Train on Model - LogisticRegression"
   ]
  },
  {
   "cell_type": "code",
   "execution_count": 72,
   "id": "9a33b904",
   "metadata": {},
   "outputs": [],
   "source": [
    "from sklearn import linear_model"
   ]
  },
  {
   "cell_type": "code",
   "execution_count": 73,
   "id": "0fcda269",
   "metadata": {},
   "outputs": [],
   "source": [
    "model_lr = linear_model.LogisticRegression(random_state=4)"
   ]
  },
  {
   "cell_type": "code",
   "execution_count": 74,
   "id": "c646c7d3",
   "metadata": {},
   "outputs": [
    {
     "name": "stderr",
     "output_type": "stream",
     "text": [
      "C:\\Users\\gopit\\anaconda3\\lib\\site-packages\\sklearn\\utils\\validation.py:63: DataConversionWarning: A column-vector y was passed when a 1d array was expected. Please change the shape of y to (n_samples, ), for example using ravel().\n",
      "  return f(*args, **kwargs)\n"
     ]
    },
    {
     "data": {
      "text/plain": [
       "LogisticRegression(random_state=4)"
      ]
     },
     "execution_count": 74,
     "metadata": {},
     "output_type": "execute_result"
    }
   ],
   "source": [
    "model_lr.fit(x_train, y_train)"
   ]
  },
  {
   "cell_type": "code",
   "execution_count": 75,
   "id": "2e8ac0ac",
   "metadata": {},
   "outputs": [],
   "source": [
    "y_predict = model_lr.predict(x_test)"
   ]
  },
  {
   "cell_type": "code",
   "execution_count": 76,
   "id": "f198c35e",
   "metadata": {},
   "outputs": [
    {
     "name": "stdout",
     "output_type": "stream",
     "text": [
      "[[154521      0]\n",
      " [   929 103885]]\n",
      "0.9964177608113058\n"
     ]
    }
   ],
   "source": [
    "cm = confusion_matrix(y_test, y_predict)\n",
    "print(cm)\n",
    "accuracy = (cm[0,0] + cm[1,1])/(sum(sum(cm)))\n",
    "print(accuracy)"
   ]
  },
  {
   "cell_type": "code",
   "execution_count": 77,
   "id": "661c1939",
   "metadata": {},
   "outputs": [
    {
     "data": {
      "text/plain": [
       "['group4_prj_cc_fraud_model_lr']"
      ]
     },
     "execution_count": 77,
     "metadata": {},
     "output_type": "execute_result"
    }
   ],
   "source": [
    "joblib.dump(model_lr, 'group4_prj_cc_fraud_model_lr')"
   ]
  },
  {
   "cell_type": "markdown",
   "id": "c9c3e8ea",
   "metadata": {},
   "source": [
    "### Plot the Decision Tree Model"
   ]
  },
  {
   "cell_type": "code",
   "execution_count": 78,
   "id": "078a6d71",
   "metadata": {},
   "outputs": [
    {
     "name": "stdout",
     "output_type": "stream",
     "text": [
      "|--- distance <= 53.23\n",
      "|   |--- price_range <= 2.50\n",
      "|   |   |--- category_code <= 1.50\n",
      "|   |   |   |--- category_code <= 0.50\n",
      "|   |   |   |   |--- class: 0\n",
      "|   |   |   |--- category_code >  0.50\n",
      "|   |   |   |   |--- class: 0\n",
      "|   |   |--- category_code >  1.50\n",
      "|   |   |   |--- price_range <= 0.50\n",
      "|   |   |   |   |--- class: 0\n",
      "|   |   |   |--- price_range >  0.50\n",
      "|   |   |   |   |--- class: 0\n",
      "|   |--- price_range >  2.50\n",
      "|   |   |--- category_code <= 7.50\n",
      "|   |   |   |--- gender <= 0.50\n",
      "|   |   |   |   |--- class: 0\n",
      "|   |   |   |--- gender >  0.50\n",
      "|   |   |   |   |--- class: 0\n",
      "|   |   |--- category_code >  7.50\n",
      "|   |   |   |--- class: 0\n",
      "|--- distance >  53.23\n",
      "|   |--- class: 1\n",
      "\n"
     ]
    }
   ],
   "source": [
    "from sklearn.tree import export_text\n",
    "feature_names = list(x.columns)\n",
    "model_tree_text = export_text(model_tree, feature_names=feature_names)\n",
    "print(model_tree_text)"
   ]
  },
  {
   "cell_type": "code",
   "execution_count": 79,
   "id": "c27084bb",
   "metadata": {},
   "outputs": [],
   "source": [
    "from sklearn import tree"
   ]
  },
  {
   "cell_type": "code",
   "execution_count": 80,
   "id": "847beb8e",
   "metadata": {},
   "outputs": [
    {
     "data": {
      "text/plain": [
       "[Text(218.90769230769232, 195.696, 'X[3] <= 53.23\\ngini = 0.481\\nsamples = 1037340\\nvalue = [618961, 418379]'),\n",
       " Text(193.15384615384616, 152.208, 'X[2] <= 2.5\\ngini = 0.011\\nsamples = 622555\\nvalue = [618961, 3594]'),\n",
       " Text(103.01538461538462, 108.72, 'X[4] <= 1.5\\ngini = 0.006\\nsamples = 615079\\nvalue = [613226, 1853]'),\n",
       " Text(51.50769230769231, 65.232, 'X[4] <= 0.5\\ngini = 0.019\\nsamples = 88814\\nvalue = [87960, 854]'),\n",
       " Text(25.753846153846155, 21.744, 'gini = 0.0\\nsamples = 29372\\nvalue = [29372, 0]'),\n",
       " Text(77.26153846153846, 21.744, 'gini = 0.028\\nsamples = 59442\\nvalue = [58588, 854]'),\n",
       " Text(154.52307692307693, 65.232, 'X[2] <= 0.5\\ngini = 0.004\\nsamples = 526265\\nvalue = [525266, 999]'),\n",
       " Text(128.76923076923077, 21.744, 'gini = 0.006\\nsamples = 222213\\nvalue = [221489, 724]'),\n",
       " Text(180.27692307692308, 21.744, 'gini = 0.002\\nsamples = 304052\\nvalue = [303777, 275]'),\n",
       " Text(283.2923076923077, 108.72, 'X[4] <= 7.5\\ngini = 0.357\\nsamples = 7476\\nvalue = [5735, 1741]'),\n",
       " Text(257.53846153846155, 65.232, 'X[0] <= 0.5\\ngini = 0.407\\nsamples = 6118\\nvalue = [4377, 1741]'),\n",
       " Text(231.7846153846154, 21.744, 'gini = 0.468\\nsamples = 2497\\nvalue = [1562, 935]'),\n",
       " Text(283.2923076923077, 21.744, 'gini = 0.346\\nsamples = 3621\\nvalue = [2815, 806]'),\n",
       " Text(309.04615384615386, 65.232, 'gini = 0.0\\nsamples = 1358\\nvalue = [1358, 0]'),\n",
       " Text(244.66153846153847, 152.208, 'gini = 0.0\\nsamples = 414785\\nvalue = [0, 414785]')]"
      ]
     },
     "execution_count": 80,
     "metadata": {},
     "output_type": "execute_result"
    },
    {
     "data": {
      "image/png": "[encoded data removed]",
      "text/plain": [
       "<Figure size 432x288 with 1 Axes>"
      ]
     },
     "metadata": {
      "needs_background": "light"
     },
     "output_type": "display_data"
    }
   ],
   "source": [
    "tree.plot_tree(model_tree)"
   ]
  },
  {
   "cell_type": "code",
   "execution_count": null,
   "id": "3df2dcf2",
   "metadata": {},
   "outputs": [],
   "source": []
  }
 ],
 "metadata": {
  "kernelspec": {
   "display_name": "Python 3 (ipykernel)",
   "language": "python",
   "name": "python3"
  },
  "language_info": {
   "codemirror_mode": {
    "name": "ipython",
    "version": 3
   },
   "file_extension": ".py",
   "mimetype": "text/x-python",
   "name": "python",
   "nbconvert_exporter": "python",
   "pygments_lexer": "ipython3",
   "version": "3.9.7"
  }
 },
 "nbformat": 4,
 "nbformat_minor": 5
}
