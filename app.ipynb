{
 "cells": [
  {
   "cell_type": "code",
   "execution_count": 1,
   "id": "6e717244",
   "metadata": {},
   "outputs": [],
   "source": [
    "from flask import Flask"
   ]
  },
  {
   "cell_type": "code",
   "execution_count": 2,
   "id": "8f210cd6",
   "metadata": {},
   "outputs": [],
   "source": [
    "app = Flask(__name__)"
   ]
  },
  {
   "cell_type": "code",
   "execution_count": 3,
   "id": "a9e4243e",
   "metadata": {},
   "outputs": [],
   "source": [
    "import joblib"
   ]
  },
  {
   "cell_type": "code",
   "execution_count": 4,
   "id": "3fc31e04",
   "metadata": {},
   "outputs": [],
   "source": [
    "model_cart = joblib.load('group4_prj_cc_fraud_model_cart')"
   ]
  },
  {
   "cell_type": "code",
   "execution_count": 5,
   "id": "422d381b",
   "metadata": {},
   "outputs": [],
   "source": [
    "model_rf = joblib.load('group4_prj_cc_fraud_model_rf')"
   ]
  },
  {
   "cell_type": "code",
   "execution_count": 6,
   "id": "9a7f60e5",
   "metadata": {},
   "outputs": [],
   "source": [
    "model_boost = joblib.load('group4_prj_cc_fraud_model_gb')"
   ]
  },
  {
   "cell_type": "code",
   "execution_count": 7,
   "id": "bd74c9b5",
   "metadata": {},
   "outputs": [],
   "source": [
    "model_logreg = joblib.load('group4_prj_cc_fraud_model_lr')"
   ]
  },
  {
   "cell_type": "code",
   "execution_count": 8,
   "id": "b3fc74c1",
   "metadata": {},
   "outputs": [],
   "source": [
    "from flask import request, render_template"
   ]
  },
  {
   "cell_type": "code",
   "execution_count": 9,
   "id": "0b01c305",
   "metadata": {},
   "outputs": [],
   "source": [
    "def map_age_group(age):    \n",
    "    if age <= 19:\n",
    "        return 0 #teenage\n",
    "    elif age > 19 and age <= 24:\n",
    "        return 1 #young_adult\n",
    "    elif age > 24 and age <= 39:\n",
    "        return 2 #adult\n",
    "    elif age> 39 and age <= 54:\n",
    "        return 3 #middle_aged\n",
    "    else:\n",
    "        return 4 #elderly"
   ]
  },
  {
   "cell_type": "code",
   "execution_count": 10,
   "id": "a4ce1c21",
   "metadata": {},
   "outputs": [],
   "source": [
    "def map_price_group(amt):    \n",
    "    if amt <= 30:\n",
    "        return 0 #Cheap\n",
    "    elif amt > 30 and amt <= 60:\n",
    "        return 1 #Affordable\n",
    "    elif amt > 60 and amt <= 499:\n",
    "        return 2 #Average\n",
    "    elif amt > 499 and amt <= 2999:\n",
    "        return 3 #Expensive\n",
    "    else:\n",
    "        return 4 #Luxury"
   ]
  },
  {
   "cell_type": "code",
   "execution_count": 11,
   "id": "7639af97",
   "metadata": {},
   "outputs": [],
   "source": [
    "import numpy as np"
   ]
  },
  {
   "cell_type": "code",
   "execution_count": 12,
   "id": "2e9e787a",
   "metadata": {},
   "outputs": [],
   "source": [
    "@app.route(\"/\", methods=[\"GET\",\"POST\"])\n",
    "\n",
    "def index():\n",
    "    if request.method == \"POST\":\n",
    "        amount = map_price_group( float(request.form.get(\"amount\")) )\n",
    "        gender = float(request.form.get(\"gender\"))        \n",
    "        category_code = float(request.form.get(\"category_code\"))\n",
    "\n",
    "        age = map_age_group( float(request.form.get(\"age\")) )\n",
    "        \n",
    "        pur_lat = float(request.form.get(\"pur_lat\"))\n",
    "        pur_long = float(request.form.get(\"pur_long\"))\n",
    "        merc_lat = float(request.form.get(\"merc_lat\"))\n",
    "        merc_long = float(request.form.get(\"merc_long\"))\n",
    "        lat_diff = abs(pur_lat - merc_lat)\n",
    "        long_diff = abs(pur_long - merc_long)\n",
    "        distance = np.linalg.norm([long_diff, lat_diff])\n",
    "                                      \n",
    "        print('amount=> ', amount, ' -> ', float(request.form.get(\"amount\")))\n",
    "        print('gender=>', gender)\n",
    "        print('category_code=>', category_code)\n",
    "        print('age=>', age)\n",
    "        print('lat_diff=>', lat_diff)\n",
    "        print('long_diff=>', long_diff)\n",
    "        print('distance', distance)\n",
    "        \n",
    "        #Model Order: gender,age_group,price_range,distance,category_code\n",
    "        \n",
    "        res_cart = model_cart.predict([[gender, age, amount, distance, category_code]])\n",
    "        res_cart = \"Fraud\" if res_cart==1 else \"Not Fraud\"\n",
    "        res_rf = model_rf.predict([[gender, age, amount, distance, category_code]])\n",
    "        res_rf = \"Fraud\" if res_rf==1 else \"Not Fraud\"\n",
    "        res_gb = model_boost.predict([[gender, age, amount, distance, category_code]])\n",
    "        res_gb = \"Fraud\" if res_gb==1 else \"Not Fraud\"\n",
    "        res_logreg = model_logreg.predict([[gender, age, amount, distance, category_code]])\n",
    "        res_logreg = \"Fraud\" if res_logreg==1 else \"Not Fraud\"\n",
    "        \n",
    "        return(render_template(\"index.html\", result_cart=res_cart, result_rf=res_rf, result_gb=res_gb, result_logreg=res_logreg))\n",
    "    else:\n",
    "        return(render_template(\"index.html\", result_cart=\"Loaded\", result_rf=\"Loaded\", result_gb=\"Loaded\", result_logreg=\"Loaded\"))\n",
    "    "
   ]
  },
  {
   "cell_type": "code",
   "execution_count": null,
   "id": "6bb71d8d",
   "metadata": {},
   "outputs": [
    {
     "name": "stdout",
     "output_type": "stream",
     "text": [
      " * Serving Flask app \"__main__\" (lazy loading)\n",
      " * Environment: production\n",
      "\u001b[31m   WARNING: This is a development server. Do not use it in a production deployment.\u001b[0m\n",
      "\u001b[2m   Use a production WSGI server instead.\u001b[0m\n",
      " * Debug mode: off\n"
     ]
    },
    {
     "name": "stderr",
     "output_type": "stream",
     "text": [
      " * Running on http://127.0.0.1:5000/ (Press CTRL+C to quit)\n",
      "127.0.0.1 - - [11/Apr/2022 00:21:30] \"GET / HTTP/1.1\" 200 -\n",
      "127.0.0.1 - - [11/Apr/2022 00:21:37] \"POST / HTTP/1.1\" 200 -\n"
     ]
    },
    {
     "name": "stdout",
     "output_type": "stream",
     "text": [
      "amount=>  3  ->  1000.0\n",
      "gender=> 0.0\n",
      "category_code=> 0.0\n",
      "age=> 2\n",
      "lat_diff=> 200.0\n",
      "long_diff=> 200.0\n",
      "distance 282.842712474619\n"
     ]
    },
    {
     "name": "stderr",
     "output_type": "stream",
     "text": [
      "127.0.0.1 - - [11/Apr/2022 00:22:27] \"POST / HTTP/1.1\" 200 -\n"
     ]
    },
    {
     "name": "stdout",
     "output_type": "stream",
     "text": [
      "amount=>  3  ->  1000.0\n",
      "gender=> 1.0\n",
      "category_code=> 9.0\n",
      "age=> 2\n",
      "lat_diff=> 200.0\n",
      "long_diff=> 200.0\n",
      "distance 282.842712474619\n"
     ]
    },
    {
     "name": "stderr",
     "output_type": "stream",
     "text": [
      "127.0.0.1 - - [11/Apr/2022 00:22:58] \"POST / HTTP/1.1\" 200 -\n"
     ]
    },
    {
     "name": "stdout",
     "output_type": "stream",
     "text": [
      "amount=>  1  ->  50.0\n",
      "gender=> 0.0\n",
      "category_code=> 3.0\n",
      "age=> 3\n",
      "lat_diff=> 0.0\n",
      "long_diff=> 0.0\n",
      "distance 0.0\n"
     ]
    }
   ],
   "source": [
    "if __name__ == \"__main__\":\n",
    "    app.run()"
   ]
  },
  {
   "cell_type": "code",
   "execution_count": null,
   "id": "095f94d0",
   "metadata": {},
   "outputs": [],
   "source": []
  }
 ],
 "metadata": {
  "kernelspec": {
   "display_name": "Python 3 (ipykernel)",
   "language": "python",
   "name": "python3"
  },
  "language_info": {
   "codemirror_mode": {
    "name": "ipython",
    "version": 3
   },
   "file_extension": ".py",
   "mimetype": "text/x-python",
   "name": "python",
   "nbconvert_exporter": "python",
   "pygments_lexer": "ipython3",
   "version": "3.9.7"
  }
 },
 "nbformat": 4,
 "nbformat_minor": 5
}
